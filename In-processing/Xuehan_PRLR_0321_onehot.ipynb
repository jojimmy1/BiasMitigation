{
 "cells": [
  {
   "cell_type": "markdown",
   "metadata": {
    "colab_type": "text",
    "id": "view-in-github"
   },
   "source": [
    "<a href=\"https://colab.research.google.com/github/samantha96/Prejudice-Remover-Regularizer-Implementation/blob/main/Xuehan_PRLR_0321_onehot.ipynb\" target=\"_parent\"><img src=\"https://colab.research.google.com/assets/colab-badge.svg\" alt=\"Open In Colab\"/></a>"
   ]
  },
  {
   "cell_type": "code",
   "execution_count": 4,
   "metadata": {
    "id": "u8Aj1pOpvAZz"
   },
   "outputs": [],
   "source": [
    "import torch as t\n",
    "import torch.nn as nn\n",
    "from torch.nn import functional as F\n",
    "import numpy as np\n",
    "import pandas as pd \n",
    "import re\n",
    "from sklearn.preprocessing import LabelEncoder\n",
    "import matplotlib.pyplot as plt"
   ]
  },
  {
   "cell_type": "code",
   "execution_count": 7,
   "metadata": {},
   "outputs": [
    {
     "ename": "SyntaxError",
     "evalue": "unterminated string literal (detected at line 1) (3061835022.py, line 1)",
     "output_type": "error",
     "traceback": [
      "\u001b[0;36m  Cell \u001b[0;32mIn[7], line 1\u001b[0;36m\u001b[0m\n\u001b[0;31m    kiva = pd.read_csv(/data/kivaa\")\u001b[0m\n\u001b[0m                                  ^\u001b[0m\n\u001b[0;31mSyntaxError\u001b[0m\u001b[0;31m:\u001b[0m unterminated string literal (detected at line 1)\n"
     ]
    }
   ],
   "source": [
    "\n",
    "kiva = pd.read_csv(/data/kivaa\")"
   ]
  },
  {
   "cell_type": "markdown",
   "metadata": {
    "id": "0-xnETcmvPXm"
   },
   "source": [
    "## 1.Data Preprocessing"
   ]
  },
  {
   "cell_type": "code",
   "execution_count": 3,
   "metadata": {
    "id": "cWF1MWvm6AAk"
   },
   "outputs": [],
   "source": [
    "columns=['age', 'workclass', 'fnlwgt', 'education', 'education_num',\n",
    "       'marital_status', 'occupation', 'relationship', 'race', 'sex',\n",
    "       'capital_gain', 'capital_loss', 'hours_per_week', 'native_country',\n",
    "       'income']\n",
    "Train_data = pd.read_csv('http://archive.ics.uci.edu/ml/machine-learning-databases/adult/adult.data',header=None,names=columns)\n",
    "Test_data = pd.read_csv('http://archive.ics.uci.edu/ml/machine-learning-databases/adult/adult.test',header=None,names=columns,skiprows=1)"
   ]
  },
  {
   "cell_type": "code",
   "execution_count": 4,
   "metadata": {
    "id": "Wmcb4pEm2G3r"
   },
   "outputs": [],
   "source": [
    "def process(dataset):\n",
    "    df = dataset \n",
    "    df=df.replace(\" ?\",np.nan).dropna()#df.isnull().sum()\n",
    "    df['income']=df['income'].map({' <=50K': 0, ' <=50K.': 0,' >50K': 1,' >50K.': 1})\n",
    "    df['sex']=df['sex'].map({' Female': 1, ' Male': 0})\n",
    "    return df\n",
    "  "
   ]
  },
  {
   "cell_type": "code",
   "execution_count": null,
   "metadata": {
    "id": "xLjILqX41PXL"
   },
   "outputs": [],
   "source": [
    "def bin_var(data, var, bins, group_names):\n",
    "    # Assign the input dataset (likely a pandas DataFrame) to a local variable `ds`.\n",
    "    ds = data\n",
    "\n",
    "    # Assign the input bins to a variable `bin_value`.\n",
    "    # This represents the intervals or ranges that will be used to group (bin) the values of the variable.\n",
    "    bin_value = bins\n",
    "\n",
    "    # Assign the input group names (labels for each bin) to a variable `group`.\n",
    "    # This list contains names or labels that will be assigned to each bin.\n",
    "    group = group_names\n",
    "\n",
    "    # Use the `pd.cut()` function to bin the values of the specified variable (column) in the dataset.\n",
    "    # `ds[var]` refers to the column in the dataset that will be binned.\n",
    "    # `bin_value` specifies the bin edges or intervals, defining how the values should be grouped.\n",
    "    # `labels=group` assigns the corresponding labels (group names) to each bin based on the values in the `group` list.\n",
    "    data[var] = pd.cut(ds[var], bin_value, labels=group)\n"
   ]
  },
  {
   "cell_type": "code",
   "execution_count": null,
   "metadata": {
    "id": "lX3B2u_d2eCC"
   },
   "outputs": [],
   "source": [
    "def workclas(x):\n",
    "    # Check if the string 'Private' is present in the input `x`\n",
    "    # `re.search('Private', x)` searches for the substring 'Private' in `x`\n",
    "    # If found, return the string 'Private'\n",
    "    if re.search('Private', x):\n",
    "        return 'Private'\n",
    "\n",
    "    # Check if the string 'Self' is present in the input `x`\n",
    "    # `re.search('Self', x)` searches for the substring 'Self' in `x`\n",
    "    # If found, return the string 'selfempl' (short for self-employed)\n",
    "    elif re.search('Self', x):\n",
    "        return 'selfempl'\n",
    "\n",
    "    # Check if the string 'gov' is present in the input `x`\n",
    "    # `re.search('gov', x)` searches for the substring 'gov' in `x`\n",
    "    # If found, return the string 'gov' (likely referring to government employment)\n",
    "    elif re.search('gov', x):\n",
    "        return 'gov'\n",
    "\n",
    "    # If none of the above conditions are met, return 'others'\n",
    "    # This serves as a catch-all for any other values that don't match the specified patterns\n",
    "    else:\n",
    "        return 'others'\n"
   ]
  },
  {
   "cell_type": "code",
   "execution_count": null,
   "metadata": {
    "id": "RnSEu9h37Wl_"
   },
   "outputs": [],
   "source": [
    "def relation(x):\n",
    "    # Check if the string 'Husband' is present in the input `x`\n",
    "    # If found, return the string 'married'\n",
    "    if re.search('Husband', x):\n",
    "        return 'married'\n",
    "\n",
    "    # Check if the string 'Wife' is present in the input `x`\n",
    "    # If found, return the string 'married'\n",
    "    elif re.search('Wife', x):\n",
    "        return 'married'\n",
    "\n",
    "    # If neither 'Husband' nor 'Wife' is found, return the original input `x`\n",
    "    else:\n",
    "        return x\n"
   ]
  },
  {
   "cell_type": "code",
   "execution_count": 8,
   "metadata": {
    "id": "upQRZpr9CYb3"
   },
   "outputs": [],
   "source": [
    "def occup(x):\n",
    "  if re.search('managerial', x):\n",
    "    return 'Highskill'\n",
    "  elif re.search('specialty',x):\n",
    "    return 'Highskill'\n",
    "  elif re.search('clerical',x):\n",
    "    return 'Highskill'\n",
    "  else:\n",
    "    return 'Lowskill'"
   ]
  },
  {
   "cell_type": "code",
   "execution_count": null,
   "metadata": {
    "id": "Om8bDHk51V80"
   },
   "outputs": [],
   "source": [
    "def featureeng(df):\n",
    "    # Binning the 'education_num' column into 3 categories: 'Low', 'Medium', and 'High'\n",
    "    # Based on the range of values provided: [0,6,11,16]\n",
    "    bin_var(df, 'education_num', [0,6,11,16], ['Low', 'Medium', 'High'])\n",
    "\n",
    "    # Binning the 'hours_per_week' column into 4 categories: 'Low', 'Medium', 'High', 'VeryHigh'\n",
    "    # Based on the range of values provided: [0,35,40,60,100]\n",
    "    bin_var(df, 'hours_per_week', [0,35,40,60,100], ['Low', 'Medium', 'High', 'VeryHigh'])\n",
    "\n",
    "    # Binning the 'age' column into 3 categories: 'Young', 'Middle_aged', and 'Old'\n",
    "    # Based on the range of values provided: [17,30,55,100]\n",
    "    bin_var(df, 'age', [17,30,55,100], ['Young', 'Middle_aged', 'Old'])\n",
    "\n",
    "    # Cleaning and transforming the 'workclass' column:\n",
    "    # Stripping any leading/trailing spaces and applying the `workclas` function to categorize values\n",
    "    df['workclass'] = df.workclass.apply(lambda x: x.strip()).apply(lambda x: workclas(x))\n",
    "\n",
    "    # Cleaning and transforming the 'occupation' column:\n",
    "    # Stripping spaces and applying the `occup` function to categorize values\n",
    "    df['occupation'] = df.occupation.apply(lambda x: x.strip()).apply(lambda x: occup(x))\n",
    "\n",
    "    # Cleaning and transforming the 'relationship' column:\n",
    "    # Stripping spaces and applying the `relation` function to group relationship statuses\n",
    "    df['relationship'] = df.relationship.apply(lambda x: x.strip()).apply(lambda x: relation(x))\n",
    "\n",
    "    # Dropping unnecessary columns that are not needed for the model:\n",
    "    # 'marital_status', 'education', 'fnlwgt', 'capital_gain', 'capital_loss', 'native_country'\n",
    "    df.drop(['marital_status', 'education', 'fnlwgt', 'capital_gain', 'capital_loss', 'native_country'], axis=1, inplace=True)\n",
    "\n",
    "    # Encoding all columns as categorical values using `LabelEncoder`\n",
    "    # This converts string categories to numerical values for modeling\n",
    "    df = df.astype(str).apply(lambda col: LabelEncoder().fit_transform(col))\n",
    "\n",
    "    # Returning the transformed dataframe\n",
    "    return df\n"
   ]
  },
  {
   "cell_type": "code",
   "execution_count": null,
   "metadata": {
    "id": "bwj4h0ewYV6A"
   },
   "outputs": [],
   "source": [
    "def one_hot(data):\n",
    "    # Store the input data in a variable for easier reference\n",
    "    x_data = data\n",
    "    \n",
    "    # Perform one-hot encoding on the first column of the data\n",
    "    x_onehot = F.one_hot(x_data[:, 0])  # x_data[:, 0] selects the first column\n",
    "\n",
    "    # Iterate over the remaining columns in the dataset (from index 1 to the last column)\n",
    "    for i in range(1, x_data.shape[1]):  # x_data.shape[1] gives the total number of columns\n",
    "        # Perform one-hot encoding on the current column\n",
    "        x = F.one_hot(x_data[:, i])  # x_data[:, i] selects the i-th column\n",
    "\n",
    "        # Concatenate the newly created one-hot encoded column with the existing one-hot encoded data\n",
    "        x_onehot = t.cat((x_onehot, x), 1)  # t.cat concatenates along dimension 1 (columns)\n",
    "\n",
    "    # Return the fully one-hot encoded data\n",
    "    return x_onehot\n"
   ]
  },
  {
   "cell_type": "markdown",
   "metadata": {
    "id": "I1AgqkPXggcA"
   },
   "source": [
    "### Process training dataset"
   ]
  },
  {
   "cell_type": "code",
   "execution_count": 11,
   "metadata": {
    "id": "gW2xZ8Ep_Lb_"
   },
   "outputs": [],
   "source": [
    "df = process(Train_data) # y(target): income >50:1  <50:0\n",
    "df = featureeng(df)"
   ]
  },
  {
   "cell_type": "markdown",
   "metadata": {
    "id": "1Y81IB63Z5Ad"
   },
   "source": [
    "Only Female dataset for training"
   ]
  },
  {
   "cell_type": "code",
   "execution_count": null,
   "metadata": {
    "id": "zWAKhOoUGWKW"
   },
   "outputs": [],
   "source": [
    "# Filter the DataFrame to select only female entries (where 'sex' is 1)\n",
    "f = df.loc[df['sex'] == 1]\n",
    "\n",
    "# Apply one-hot encoding to the features, dropping the 'income' and 'sex' columns\n",
    "# Convert the DataFrame to a NumPy array, then to a PyTorch tensor, and ensure it's in float32 format\n",
    "x_female = one_hot(t.from_numpy(np.array(f.drop(columns=['income', 'sex'])))).to(t.float32)\n",
    "\n",
    "# Extract the 'income' column, convert it to a NumPy array, and reshape it to have one column\n",
    "# This creates the target variable for the female entries\n",
    "y_female = t.from_numpy(np.array(f['income']).astype('float32')).reshape(x_female.shape[0], 1)\n",
    "\n",
    "# Concatenate the one-hot encoded features (x_female) with the labels (y_female) along the column axis\n",
    "xy_female = t.cat((x_female, y_female), 1)\n"
   ]
  },
  {
   "cell_type": "markdown",
   "metadata": {
    "id": "3vYwRYhFZ_hD"
   },
   "source": [
    "Only male dataset for training"
   ]
  },
  {
   "cell_type": "code",
   "execution_count": null,
   "metadata": {
    "id": "1cM5xjopZjyq"
   },
   "outputs": [],
   "source": [
    "# Filter the DataFrame to select only male entries (where 'sex' is 0)\n",
    "m = df.loc[df['sex'] == 0]\n",
    "\n",
    "# Apply one-hot encoding to the features, dropping the 'income' and 'sex' columns\n",
    "# Convert the DataFrame to a NumPy array, then to a PyTorch tensor, and ensure it's in float32 format\n",
    "x_male = one_hot(t.from_numpy(np.array(m.drop(columns=['income', 'sex'])))).to(t.float32)\n",
    "\n",
    "# Extract the 'income' column, convert it to a NumPy array, and reshape it to have one column\n",
    "# This creates the target variable for the male entries\n",
    "y_male = t.from_numpy(np.array(m['income']).astype('float32')).reshape(x_male.shape[0], 1)\n",
    "\n",
    "# Concatenate the one-hot encoded features (x_male) with the labels (y_male) along the column axis\n",
    "xy_male = t.cat((x_male, y_male), 1)\n"
   ]
  },
  {
   "cell_type": "markdown",
   "metadata": {
    "id": "imZzGNjmggcE"
   },
   "source": [
    "### Process test dataset"
   ]
  },
  {
   "cell_type": "code",
   "execution_count": 14,
   "metadata": {
    "id": "Lmc5byDhggcF"
   },
   "outputs": [],
   "source": [
    "tf = process(Test_data) # y(target): income >50:1  <50:0\n",
    "tf = featureeng(tf)"
   ]
  },
  {
   "cell_type": "code",
   "execution_count": null,
   "metadata": {
    "id": "reFlJv3aggcF"
   },
   "outputs": [],
   "source": [
    "# Apply one-hot encoding to the test features, dropping the 'income' and 'sex' columns\n",
    "# Convert the DataFrame to a NumPy array, then to a PyTorch tensor, and ensure it's in float32 format\n",
    "x_test = one_hot(t.from_numpy(np.array(tf.drop(columns=['income', 'sex'])))).to(t.float32)\n",
    "\n",
    "# Extract the 'income' column from the test DataFrame, convert it to a NumPy array, and reshape it to have one column\n",
    "# This creates the target variable for the test dataset\n",
    "y_test = t.from_numpy(np.array(tf['income']).astype('float32')).reshape(x_test.shape[0], 1)\n"
   ]
  },
  {
   "cell_type": "code",
   "execution_count": null,
   "metadata": {
    "id": "04jlAGHaggcF"
   },
   "outputs": [],
   "source": [
    "# Filter the DataFrame to select only the rows where the 'sex' column equals 1 (indicating female)\n",
    "f = df.loc[df['sex'] == 1]\n",
    "\n",
    "# Create one-hot encoded features for the female subset, dropping the 'income' and 'sex' columns\n",
    "# Convert the filtered DataFrame to a NumPy array, then to a PyTorch tensor, and ensure it's in float32 format\n",
    "xf_test = one_hot(t.from_numpy(np.array(f.drop(columns=['income', 'sex'])))).to(t.float32)\n",
    "\n",
    "# Extract the 'income' column from the filtered DataFrame, convert it to a NumPy array, and reshape it to have one column\n",
    "# This creates the target variable for the female subset of the test dataset\n",
    "yf_test = t.from_numpy(np.array(f['income']).astype('float32')).reshape(xf_test.shape[0], 1)\n"
   ]
  },
  {
   "cell_type": "code",
   "execution_count": null,
   "metadata": {
    "id": "1sf7ioa7ggcG"
   },
   "outputs": [],
   "source": [
    "# Filter the DataFrame to select only the rows where the 'sex' column equals 0 (indicating male)\n",
    "m = df.loc[df['sex'] == 0]\n",
    "\n",
    "# Create one-hot encoded features for the male subset, dropping the 'income' and 'sex' columns\n",
    "# Convert the filtered DataFrame to a NumPy array, then to a PyTorch tensor, and ensure it's in float32 format\n",
    "xm_test = one_hot(t.from_numpy(np.array(m.drop(columns=['income', 'sex'])))).to(t.float32)\n",
    "\n",
    "# Extract the 'income' column from the filtered DataFrame, convert it to a NumPy array, and reshape it to have one column\n",
    "# This creates the target variable for the male subset of the test dataset\n",
    "ym_test = t.from_numpy(np.array(m['income']).astype('float32')).reshape(xm_test.shape[0], 1)\n"
   ]
  },
  {
   "cell_type": "code",
   "execution_count": null,
   "metadata": {
    "id": "i6o_QZFofMTh"
   },
   "outputs": [],
   "source": [
    "# Define a logistic regression model using PyTorch's nn.Module\n",
    "class LogisticRegression(nn.Module):\n",
    "    def __init__(self):\n",
    "        # Call the parent constructor to initialize the nn.Module\n",
    "        super(LogisticRegression, self).__init__()\n",
    "\n",
    "        # Define a linear transformation layer (weights and bias) for the model.\n",
    "        # `x_female.shape[1]` specifies the number of input features, and `out_features=1` indicates a single output for binary classification.\n",
    "        # The bias term is included by setting bias=True, allowing the model to learn an intercept.\n",
    "        self.w = nn.Linear(x_female.shape[1], out_features=1, bias=True)\n",
    "\n",
    "        # Initialize a sigmoid activation function, which will be used to convert logits to probabilities.\n",
    "        self.sigmoid = nn.Sigmoid()\n",
    "\n",
    "    def forward(self, x):\n",
    "        # Define the forward pass for the model.\n",
    "        # Apply the linear transformation to the input `x`.\n",
    "        w = self.w(x)\n",
    "\n",
    "        # Apply the sigmoid function to the output of the linear layer.\n",
    "        # This converts the logits (raw output of the linear layer) to probabilities in the range (0, 1).\n",
    "        output = self.sigmoid(w)\n",
    "\n",
    "        # Return the output probabilities.\n",
    "        return output\n"
   ]
  },
  {
   "cell_type": "markdown",
   "metadata": {
    "id": "OGdLb0RyvJAf"
   },
   "source": [
    "## 2.Define PRLR: \n",
    "### Object funtion: Loss function(negative log-likelihood) + Prejudice Remover Regularizer(mutual information) + l2 Regularizer"
   ]
  },
  {
   "cell_type": "code",
   "execution_count": null,
   "metadata": {
    "id": "UNF5cdsOggcH"
   },
   "outputs": [],
   "source": [
    "class PRLoss():  # Define a class for the probabilistic loss function\n",
    "    def __init__(self, eta=1.0):\n",
    "        # Initialize the class with a scaling factor eta.\n",
    "        # The eta parameter can be used to adjust the magnitude of the loss.\n",
    "        super(PRLoss, self).__init__()\n",
    "        self.eta = eta  # Set the eta value for scaling the loss.\n",
    "\n",
    "    def forward(self, output_f, output_m):\n",
    "        # The forward method computes the loss based on the outputs for females (output_f) and males (output_m).\n",
    "        \n",
    "        # Calculate the number of female and male samples\n",
    "        N_female = t.tensor(output_f.shape[0])  # Number of female samples\n",
    "        N_male = t.tensor(output_m.shape[0])      # Number of male samples\n",
    "        \n",
    "        # Stack the number of samples for males and females into a tensor\n",
    "        Dxisi = t.stack((N_male, N_female), axis=0)  # Tensor with shape [2] containing male and female counts\n",
    "\n",
    "        # Calculate the predicted probabilities for females and males\n",
    "        y_pred_female = t.sum(output_f)  # Sum of predicted probabilities for females\n",
    "        y_pred_male = t.sum(output_m)      # Sum of predicted probabilities for males\n",
    "        \n",
    "        # Calculate conditional probabilities Pr[y|s]\n",
    "        P_ys = t.stack((y_pred_male, y_pred_female), axis=0) / Dxisi\n",
    "        # P_ys now contains the probabilities of y given the gender (s)\n",
    "\n",
    "        # Calculate overall probability Pr[y]\n",
    "        P = t.cat((output_f, output_m), 0)  # Concatenate female and male predictions\n",
    "        P_y = t.sum(P) / (x_female.shape[0] + x_male.shape[0])  # Overall probability of y\n",
    "\n",
    "        # Calculate the individual terms needed for the loss\n",
    "        P_s1y1 = t.log(P_ys[1]) - t.log(P_y)  # Log probability for female given positive class\n",
    "        P_s1y0 = t.log(1 - P_ys[1]) - t.log(1 - P_y)  # Log probability for female given negative class\n",
    "        P_s0y1 = t.log(P_ys[0]) - t.log(P_y)  # Log probability for male given positive class\n",
    "        P_s0y0 = t.log(1 - P_ys[0]) - t.log(1 - P_y)  # Log probability for male given negative class\n",
    "\n",
    "        # Calculate the individual contributions to the loss\n",
    "        PI_s1y1 = output_f * P_s1y1  # Contribution from female samples in positive class\n",
    "        PI_s1y0 = (1 - output_f) * P_s1y0  # Contribution from female samples in negative class\n",
    "        PI_s0y1 = output_m * P_s0y1  # Contribution from male samples in positive class\n",
    "        PI_s0y0 = (1 - output_m) * P_s0y0  # Contribution from male samples in negative class\n",
    "\n",
    "        # Sum all contributions to get the final loss\n",
    "        PI = t.sum(PI_s1y1) + t.sum(PI_s1y0) + t.sum(PI_s0y1) + t.sum(PI_s0y0)\n",
    "        PI = self.eta * PI  # Scale the loss by eta\n",
    "\n",
    "        return PI  # Return the computed loss\n"
   ]
  },
  {
   "cell_type": "markdown",
   "metadata": {
    "id": "qL0RoEEwCXUF"
   },
   "source": [
    "## 3.Model Validation"
   ]
  },
  {
   "cell_type": "markdown",
   "metadata": {
    "id": "jsZ31V_HDIYG"
   },
   "source": [
    "### Accuracy"
   ]
  },
  {
   "cell_type": "code",
   "execution_count": null,
   "metadata": {
    "id": "VlbtXBfZggcL"
   },
   "outputs": [],
   "source": [
    "def accuracy(Model_f, Model_m, x_female, y_female, x_male, y_male):\n",
    "    # Generate predictions for female samples using the female model.\n",
    "    yf_pred = (Model_f(x_female) >= 0.5)  # Apply the model and threshold at 0.5 to get binary predictions.\n",
    "    \n",
    "    # Generate predictions for male samples using the male model.\n",
    "    ym_pred = (Model_m(x_male) >= 0.5)  # Apply the model and threshold at 0.5 to get binary predictions.\n",
    "    \n",
    "    # Calculate accuracy for female predictions.\n",
    "    accu_f = t.sum(yf_pred.flatten() == y_female.flatten()) / x_female.shape[0]  \n",
    "    # Compare predicted labels with actual labels and compute the fraction of correct predictions.\n",
    "    \n",
    "    # Calculate accuracy for male predictions.\n",
    "    accu_m = t.sum(ym_pred.flatten() == y_male.flatten()) / x_male.shape[0]  \n",
    "    # Compare predicted labels with actual labels and compute the fraction of correct predictions.\n",
    "\n",
    "    # Compute the average accuracy across both models.\n",
    "    accuracy = (accu_f + accu_m) / 2  \n",
    "    \n",
    "    # Return the accuracy rounded to four decimal places.\n",
    "    return round(accuracy.item(), 4)  \n",
    "\n",
    "    # Print the accuracy percentage.\n",
    "    print(\"Accuracy : %.3f\" % (accuracy * 100) + '%') \n"
   ]
  },
  {
   "cell_type": "markdown",
   "metadata": {
    "id": "mhQd4-6kDLJt"
   },
   "source": [
    "### CV_score"
   ]
  },
  {
   "cell_type": "code",
   "execution_count": 21,
   "metadata": {
    "colab": {
     "base_uri": "https://localhost:8080/"
    },
    "id": "tugeiaNF6xEJ",
    "outputId": "15a63b57-f16d-4cf5-9680-c88fc3be4d47"
   },
   "outputs": [
    {
     "name": "stdout",
     "output_type": "stream",
     "text": [
      "training sample CV_score : 0.2002\n"
     ]
    }
   ],
   "source": [
    "# CVscore: Calder-Verwer discrimination score\n",
    "# CV score on sample data: Pr[y=1 | S=0] - Pr[y=1 | S=1]\n",
    "# For sample training data\n",
    "# c=1: t.sum(y_data) 7508\n",
    "# s=1: t.sum(s_data_onehot[:,0]) 9782\n",
    "# s=0: t.sum(s_data_onehot[:,1]) 20380\n",
    "pf = df[df['sex'] == 1]\n",
    "high_f = pf[pf['income'] == 1]\n",
    "pm = df[df['sex'] == 0]\n",
    "high_m = pm[pm['income'] == 1]\n",
    "# p[c=1 | s=1] \n",
    "p_c1s1 = high_f.shape[0]/pf.shape[0]\n",
    "p_c1s0 = high_m.shape[0]/pm.shape[0]\n",
    "p_cs = p_c1s0 - p_c1s1\n",
    "print('training sample CV_score : %.4f' %( p_cs))"
   ]
  },
  {
   "cell_type": "code",
   "execution_count": null,
   "metadata": {
    "id": "hypivDDLggcN"
   },
   "outputs": [],
   "source": [
    "def CVS(Model_f, Model_m, x_female, x_male):\n",
    "    # Generate predictions for female samples using the female model.\n",
    "    yf_pred = (Model_f(x_female) >= 0.5)  # Apply the model and threshold at 0.5 to get binary predictions.\n",
    "    \n",
    "    # Generate predictions for male samples using the male model.\n",
    "    ym_pred = (Model_m(x_male) >= 0.5)  # Apply the model and threshold at 0.5 to get binary predictions.\n",
    "    \n",
    "    # Count the number of correct predictions for female samples.\n",
    "    corr_f = t.sum(yf_pred == True)  # Count how many female predictions are True (1).\n",
    "    \n",
    "    # Count the number of correct predictions for male samples.\n",
    "    corr_m = t.sum(ym_pred == True)  # Count how many male predictions are True (1).\n",
    "    \n",
    "    # Calculate the probability of predicting income as >50K for females.\n",
    "    P_y1_s1 = corr_f / x_female.shape[0]  # Probability of positive predictions among females.\n",
    "    \n",
    "    # Calculate the probability of predicting income as >50K for males.\n",
    "    P_y1_s0 = corr_m / x_male.shape[0]  # Probability of positive predictions among males.\n",
    "    \n",
    "    # Calculate the Calder-Verwer discrimination score, which measures the difference in positive prediction probabilities.\n",
    "    CV_score = t.abs(P_y1_s0 - P_y1_s1)  # Absolute difference between the two probabilities.\n",
    "    \n",
    "    # Return the Calder-Verwer discrimination score rounded to four decimal places.\n",
    "    return round(CV_score.item(), 4)  \n",
    "    \n",
    "    # Print the Calder-Verwer discrimination score.\n",
    "    print ('Calder-Verwer discrimination score: %.4f' % (CV_score.item()))  \n"
   ]
  },
  {
   "cell_type": "markdown",
   "metadata": {
    "id": "uM4hLdwIggcN"
   },
   "source": [
    "## 4.Model implementation: Logistic regression model with PR Regularizer"
   ]
  },
  {
   "cell_type": "code",
   "execution_count": null,
   "metadata": {
    "id": "cn5YdG02BB8Y"
   },
   "outputs": [],
   "source": [
    "class PRLR():  # Class definition for a linear model focused on parity regularization.\n",
    "    def __init__(self, eta=0.0, epochs=3000, lr=0.01):\n",
    "        super(PRLR, self).__init__()  # Call the constructor of the parent class.\n",
    "        self.eta = eta  # Coefficient for the fairness term in the loss function.\n",
    "        self.epochs = epochs  # Number of training epochs.\n",
    "        self.lr = lr  # Learning rate for the optimizer.\n",
    "\n",
    "    def fit(self, x_female, y_female, x_male, y_male):\n",
    "        # Initialize logistic regression models for females and males.\n",
    "        model_f = LogisticRegression()  # Model for female data.\n",
    "        model_m = LogisticRegression()  # Model for male data.\n",
    "\n",
    "        # Define the binary cross-entropy loss criterion.\n",
    "        criterion = nn.BCELoss(reduction='sum')  # Binary cross-entropy loss.\n",
    "\n",
    "        # Initialize the custom loss function for parity regularization.\n",
    "        PI = PRLoss(eta=self.eta)\n",
    "\n",
    "        # Set the number of epochs for training.\n",
    "        epochs = self.epochs\n",
    "\n",
    "        # Create an optimizer that combines the parameters of both models.\n",
    "        optimizer = t.optim.Adam(list(model_f.parameters()) + list(model_m.parameters()), self.lr, weight_decay=1e-5)\n",
    "\n",
    "        # Training loop\n",
    "        for epoch in range(epochs):\n",
    "            optimizer.zero_grad()  # Reset gradients for the optimizer.\n",
    "            \n",
    "            # Forward pass: compute predictions for both models.\n",
    "            output_f = model_f(x_female)  # Predictions for female input.\n",
    "            output_m = model_m(x_male)  # Predictions for male input.\n",
    "\n",
    "            # Calculate the binary cross-entropy loss for both outputs.\n",
    "            logloss = criterion(output_f, y_female) + criterion(output_m, y_male)\n",
    "\n",
    "            # Calculate the parity regularization loss.\n",
    "            PIloss = PI.forward(output_f, output_m)\n",
    "\n",
    "            # Total loss is the sum of log loss and parity regularization loss.\n",
    "            loss = PIloss + logloss\n",
    "\n",
    "            # Backward pass: compute gradients.\n",
    "            loss.backward()\n",
    "\n",
    "            # Update model parameters using the optimizer.\n",
    "            optimizer.step()\n",
    "\n",
    "        # Set models to evaluation mode after training is done.\n",
    "        model_f.eval()  \n",
    "        model_m.eval()\n",
    "\n",
    "        # Calculate accuracy and Calder-Verwer discrimination score.\n",
    "        accu = accuracy(model_f, model_m, x_female, y_female, x_male, y_male)  # Get accuracy.\n",
    "        cvs = CVS(model_f, model_m, x_female, x_male)  # Get Calder-Verwer score.\n",
    "\n",
    "        return accu, cvs  # Return accuracy and Calder-Verwer score.\n"
   ]
  },
  {
   "cell_type": "markdown",
   "metadata": {
    "id": "cm_J3VwJMtJc"
   },
   "source": [
    "## 5.change eta and observe the change of accuracy and CV-score"
   ]
  },
  {
   "cell_type": "code",
   "execution_count": 24,
   "metadata": {
    "id": "cmThrMH9IBrH"
   },
   "outputs": [],
   "source": [
    "PR = PRLR(eta = 1.0, epochs = 3000, lr = 0.01)"
   ]
  },
  {
   "cell_type": "code",
   "execution_count": 25,
   "metadata": {
    "colab": {
     "base_uri": "https://localhost:8080/"
    },
    "id": "n1xx1GYBII_L",
    "outputId": "45c03611-d012-46d4-8a03-9af9721dfa32"
   },
   "outputs": [
    {
     "data": {
      "text/plain": [
       "tensor([[0.8444],\n",
       "        [0.1125]])"
      ]
     },
     "execution_count": 25,
     "metadata": {},
     "output_type": "execute_result"
    }
   ],
   "source": [
    "t.tensor(PR.fit(x_female,y_female,x_male,y_male)).reshape(2,1)"
   ]
  },
  {
   "cell_type": "markdown",
   "metadata": {
    "id": "w1hlo6X5M9Bj"
   },
   "source": [
    "## 6.Results Plot"
   ]
  },
  {
   "cell_type": "code",
   "execution_count": 26,
   "metadata": {
    "id": "Wd7Tfk78MjEH"
   },
   "outputs": [],
   "source": [
    "eta_value = [0.0,1.0,2.0,3.0,4.0,5.0,10.0,15.0,20.0,25.0,30.0,80.0]\n",
    "PR = PRLR(eta = 0.0, epochs = 3000, lr = 0.01)\n",
    "accv = t.tensor(PR.fit(x_female,y_female,x_male,y_male)).reshape(2,1)"
   ]
  },
  {
   "cell_type": "code",
   "execution_count": 27,
   "metadata": {
    "id": "Gi8Re90_NfYX"
   },
   "outputs": [],
   "source": [
    "for e in range(1,len(eta_value)):\n",
    "  PR = PRLR(eta = eta_value[e], epochs = 3000, lr = 0.01)\n",
    "  accv2 = t.tensor(PR.fit(x_female,y_female,x_male,y_male)).reshape(2,1)\n",
    "  accv = t.cat((accv,accv2),1)"
   ]
  },
  {
   "cell_type": "code",
   "execution_count": 28,
   "metadata": {
    "colab": {
     "base_uri": "https://localhost:8080/"
    },
    "id": "NitUUxR66zW7",
    "outputId": "a5d72f3e-aca2-4624-f933-a74ccf3ff4d0"
   },
   "outputs": [
    {
     "data": {
      "text/plain": [
       "tensor([[0.8457, 0.8444, 0.8406, 0.8404, 0.8368, 0.8362, 0.8349, 0.8347, 0.8313,\n",
       "         0.8311, 0.8309, 0.8306],\n",
       "        [0.1679, 0.1125, 0.0725, 0.0708, 0.0567, 0.0527, 0.0340, 0.0311, 0.0192,\n",
       "         0.0138, 0.0118, 0.0074]])"
      ]
     },
     "execution_count": 28,
     "metadata": {},
     "output_type": "execute_result"
    }
   ],
   "source": [
    "accv"
   ]
  },
  {
   "cell_type": "code",
   "execution_count": 29,
   "metadata": {
    "id": "HIlY5OFn6-jl"
   },
   "outputs": [],
   "source": [
    "eta_accu = accv[0].tolist()\n",
    "eta_cvs = accv[1].tolist()"
   ]
  },
  {
   "cell_type": "code",
   "execution_count": 30,
   "metadata": {
    "colab": {
     "base_uri": "https://localhost:8080/",
     "height": 279
    },
    "id": "SmzFD59b4_wi",
    "outputId": "85e7a6d8-05aa-483c-d6e3-b31bcb65d25e"
   },
   "outputs": [
    {
     "data": {
      "image/png": "[encoded data removed]",
      "text/plain": [
       "<Figure size 640x480 with 1 Axes>"
      ]
     },
     "metadata": {},
     "output_type": "display_data"
    }
   ],
   "source": [
    "plt.plot(eta_value,eta_accu)\n",
    "plt.xlabel('Parameter for Prejudice Remover')\n",
    "plt.ylabel('Accuracy')\n",
    "plt.show()"
   ]
  },
  {
   "cell_type": "code",
   "execution_count": 31,
   "metadata": {
    "colab": {
     "base_uri": "https://localhost:8080/",
     "height": 279
    },
    "id": "Qh-m_ao2_Aoq",
    "outputId": "1fa60710-bc95-4a9f-abd7-e8a6ad14c95e"
   },
   "outputs": [
    {
     "data": {
      "image/png": "[encoded data removed]",
      "text/plain": [
       "<Figure size 640x480 with 1 Axes>"
      ]
     },
     "metadata": {},
     "output_type": "display_data"
    }
   ],
   "source": [
    "plt.plot(eta_value,eta_cvs)\n",
    "plt.xlabel('Parameter for Prejudice Remover')\n",
    "plt.ylabel('CV_score')\n",
    "plt.show()"
   ]
  },
  {
   "cell_type": "code",
   "execution_count": null,
   "metadata": {
    "id": "r39F73jVAdH7"
   },
   "outputs": [],
   "source": []
  }
 ],
 "metadata": {
  "colab": {
   "collapsed_sections": [],
   "include_colab_link": true,
   "name": "Xuehan_PRLR_0321_onehot.ipynb",
   "provenance": [],
   "toc_visible": true
  },
  "kernelspec": {
   "display_name": "Python 3",
   "language": "python",
   "name": "python3"
  },
  "language_info": {
   "codemirror_mode": {
    "name": "ipython",
    "version": 3
   },
   "file_extension": ".py",
   "mimetype": "text/x-python",
   "name": "python",
   "nbconvert_exporter": "python",
   "pygments_lexer": "ipython3",
   "version": "3.10.15"
  }
 },
 "nbformat": 4,
 "nbformat_minor": 0
}
