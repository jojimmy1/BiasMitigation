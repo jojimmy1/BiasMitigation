{
 "cells": [
  {
   "cell_type": "markdown",
   "metadata": {
    "colab_type": "text",
    "id": "view-in-github"
   },
   "source": [
    "<a href=\"https://colab.research.google.com/github/samantha96/Prejudice-Remover-Regularizer-Implementation/blob/main/Xuehan_PRLR_0321_onehot.ipynb\" target=\"_parent\"><img src=\"https://colab.research.google.com/assets/colab-badge.svg\" alt=\"Open In Colab\"/></a>"
   ]
  },
  {
   "cell_type": "code",
   "execution_count": 1,
   "metadata": {
    "id": "u8Aj1pOpvAZz"
   },
   "outputs": [],
   "source": [
    "import torch as t\n",
    "import torch.nn as nn\n",
    "from torch.nn import functional as F\n",
    "import numpy as np\n",
    "import pandas as pd \n",
    "import re\n",
    "from sklearn.preprocessing import LabelEncoder\n",
    "import matplotlib.pyplot as plt\n",
    "from sklearn.model_selection import train_test_split"
   ]
  },
  {
   "cell_type": "code",
   "execution_count": 2,
   "metadata": {},
   "outputs": [],
   "source": [
    "student_perf = pd.read_csv('/Users/mihikaghaisas/Desktop/Purdue/Courses/CS 578/Project/data/studentperf_label.csv')\n",
    "kiva = pd.read_csv('/Users/mihikaghaisas/Desktop/Purdue/Courses/CS 578/Project/data/kiva_label.csv')"
   ]
  },
  {
   "cell_type": "markdown",
   "metadata": {
    "id": "0-xnETcmvPXm"
   },
   "source": [
    "## 1.Data Preprocessing"
   ]
  },
  {
   "cell_type": "code",
   "execution_count": 3,
   "metadata": {
    "id": "cWF1MWvm6AAk"
   },
   "outputs": [],
   "source": [
    "def split_data(X, y):\n",
    "    X_train, X_test, y_train, y_test = train_test_split(X, y, test_size=0.30, random_state=42)\n",
    "\n",
    "    return X_train, X_test, y_train, y_test"
   ]
  },
  {
   "cell_type": "code",
   "execution_count": 4,
   "metadata": {},
   "outputs": [
    {
     "data": {
      "text/html": [
       "<div>\n",
       "<style scoped>\n",
       "    .dataframe tbody tr th:only-of-type {\n",
       "        vertical-align: middle;\n",
       "    }\n",
       "\n",
       "    .dataframe tbody tr th {\n",
       "        vertical-align: top;\n",
       "    }\n",
       "\n",
       "    .dataframe thead th {\n",
       "        text-align: right;\n",
       "    }\n",
       "</style>\n",
       "<table border=\"1\" class=\"dataframe\">\n",
       "  <thead>\n",
       "    <tr style=\"text-align: right;\">\n",
       "      <th></th>\n",
       "      <th>funded_amount</th>\n",
       "      <th>loan_amount</th>\n",
       "      <th>sector</th>\n",
       "      <th>country_code</th>\n",
       "      <th>currency</th>\n",
       "      <th>partner_id</th>\n",
       "      <th>term_in_months</th>\n",
       "      <th>lender_count</th>\n",
       "      <th>borrower_genders</th>\n",
       "      <th>repayment_interval</th>\n",
       "    </tr>\n",
       "  </thead>\n",
       "  <tbody>\n",
       "    <tr>\n",
       "      <th>0</th>\n",
       "      <td>300.0</td>\n",
       "      <td>300.0</td>\n",
       "      <td>6</td>\n",
       "      <td>51</td>\n",
       "      <td>39</td>\n",
       "      <td>247.0</td>\n",
       "      <td>12.0</td>\n",
       "      <td>12</td>\n",
       "      <td>0</td>\n",
       "      <td>1</td>\n",
       "    </tr>\n",
       "    <tr>\n",
       "      <th>1</th>\n",
       "      <td>150.0</td>\n",
       "      <td>150.0</td>\n",
       "      <td>13</td>\n",
       "      <td>27</td>\n",
       "      <td>19</td>\n",
       "      <td>334.0</td>\n",
       "      <td>43.0</td>\n",
       "      <td>6</td>\n",
       "      <td>0</td>\n",
       "      <td>0</td>\n",
       "    </tr>\n",
       "    <tr>\n",
       "      <th>2</th>\n",
       "      <td>200.0</td>\n",
       "      <td>200.0</td>\n",
       "      <td>1</td>\n",
       "      <td>51</td>\n",
       "      <td>39</td>\n",
       "      <td>247.0</td>\n",
       "      <td>11.0</td>\n",
       "      <td>8</td>\n",
       "      <td>0</td>\n",
       "      <td>1</td>\n",
       "    </tr>\n",
       "    <tr>\n",
       "      <th>3</th>\n",
       "      <td>400.0</td>\n",
       "      <td>400.0</td>\n",
       "      <td>6</td>\n",
       "      <td>51</td>\n",
       "      <td>39</td>\n",
       "      <td>245.0</td>\n",
       "      <td>14.0</td>\n",
       "      <td>16</td>\n",
       "      <td>0</td>\n",
       "      <td>2</td>\n",
       "    </tr>\n",
       "    <tr>\n",
       "      <th>4</th>\n",
       "      <td>200.0</td>\n",
       "      <td>200.0</td>\n",
       "      <td>0</td>\n",
       "      <td>27</td>\n",
       "      <td>19</td>\n",
       "      <td>334.0</td>\n",
       "      <td>43.0</td>\n",
       "      <td>8</td>\n",
       "      <td>0</td>\n",
       "      <td>0</td>\n",
       "    </tr>\n",
       "    <tr>\n",
       "      <th>...</th>\n",
       "      <td>...</td>\n",
       "      <td>...</td>\n",
       "      <td>...</td>\n",
       "      <td>...</td>\n",
       "      <td>...</td>\n",
       "      <td>...</td>\n",
       "      <td>...</td>\n",
       "      <td>...</td>\n",
       "      <td>...</td>\n",
       "      <td>...</td>\n",
       "    </tr>\n",
       "    <tr>\n",
       "      <th>548111</th>\n",
       "      <td>0.0</td>\n",
       "      <td>25.0</td>\n",
       "      <td>0</td>\n",
       "      <td>53</td>\n",
       "      <td>52</td>\n",
       "      <td>58.0</td>\n",
       "      <td>13.0</td>\n",
       "      <td>0</td>\n",
       "      <td>0</td>\n",
       "      <td>2</td>\n",
       "    </tr>\n",
       "    <tr>\n",
       "      <th>548112</th>\n",
       "      <td>0.0</td>\n",
       "      <td>25.0</td>\n",
       "      <td>0</td>\n",
       "      <td>53</td>\n",
       "      <td>52</td>\n",
       "      <td>58.0</td>\n",
       "      <td>13.0</td>\n",
       "      <td>0</td>\n",
       "      <td>0</td>\n",
       "      <td>2</td>\n",
       "    </tr>\n",
       "    <tr>\n",
       "      <th>548113</th>\n",
       "      <td>25.0</td>\n",
       "      <td>25.0</td>\n",
       "      <td>0</td>\n",
       "      <td>30</td>\n",
       "      <td>21</td>\n",
       "      <td>138.0</td>\n",
       "      <td>13.0</td>\n",
       "      <td>1</td>\n",
       "      <td>0</td>\n",
       "      <td>2</td>\n",
       "    </tr>\n",
       "    <tr>\n",
       "      <th>548114</th>\n",
       "      <td>0.0</td>\n",
       "      <td>25.0</td>\n",
       "      <td>0</td>\n",
       "      <td>30</td>\n",
       "      <td>21</td>\n",
       "      <td>138.0</td>\n",
       "      <td>13.0</td>\n",
       "      <td>0</td>\n",
       "      <td>0</td>\n",
       "      <td>2</td>\n",
       "    </tr>\n",
       "    <tr>\n",
       "      <th>548115</th>\n",
       "      <td>0.0</td>\n",
       "      <td>25.0</td>\n",
       "      <td>0</td>\n",
       "      <td>30</td>\n",
       "      <td>21</td>\n",
       "      <td>138.0</td>\n",
       "      <td>13.0</td>\n",
       "      <td>0</td>\n",
       "      <td>0</td>\n",
       "      <td>2</td>\n",
       "    </tr>\n",
       "  </tbody>\n",
       "</table>\n",
       "<p>548116 rows × 10 columns</p>\n",
       "</div>"
      ],
      "text/plain": [
       "        funded_amount  loan_amount  sector  country_code  currency  \\\n",
       "0               300.0        300.0       6            51        39   \n",
       "1               150.0        150.0      13            27        19   \n",
       "2               200.0        200.0       1            51        39   \n",
       "3               400.0        400.0       6            51        39   \n",
       "4               200.0        200.0       0            27        19   \n",
       "...               ...          ...     ...           ...       ...   \n",
       "548111            0.0         25.0       0            53        52   \n",
       "548112            0.0         25.0       0            53        52   \n",
       "548113           25.0         25.0       0            30        21   \n",
       "548114            0.0         25.0       0            30        21   \n",
       "548115            0.0         25.0       0            30        21   \n",
       "\n",
       "        partner_id  term_in_months  lender_count  borrower_genders  \\\n",
       "0            247.0            12.0            12                 0   \n",
       "1            334.0            43.0             6                 0   \n",
       "2            247.0            11.0             8                 0   \n",
       "3            245.0            14.0            16                 0   \n",
       "4            334.0            43.0             8                 0   \n",
       "...            ...             ...           ...               ...   \n",
       "548111        58.0            13.0             0                 0   \n",
       "548112        58.0            13.0             0                 0   \n",
       "548113       138.0            13.0             1                 0   \n",
       "548114       138.0            13.0             0                 0   \n",
       "548115       138.0            13.0             0                 0   \n",
       "\n",
       "        repayment_interval  \n",
       "0                        1  \n",
       "1                        0  \n",
       "2                        1  \n",
       "3                        2  \n",
       "4                        0  \n",
       "...                    ...  \n",
       "548111                   2  \n",
       "548112                   2  \n",
       "548113                   2  \n",
       "548114                   2  \n",
       "548115                   2  \n",
       "\n",
       "[548116 rows x 10 columns]"
      ]
     },
     "execution_count": 4,
     "metadata": {},
     "output_type": "execute_result"
    }
   ],
   "source": [
    "kiva"
   ]
  },
  {
   "cell_type": "code",
   "execution_count": 5,
   "metadata": {},
   "outputs": [
    {
     "name": "stdout",
     "output_type": "stream",
     "text": [
      "Mean is 631.0293806420539\n",
      "Median is 450.0\n",
      "Standard dev is 815.1155434167922\n"
     ]
    }
   ],
   "source": [
    "#finding loan amount avg: \n",
    "mean = kiva[\"loan_amount\"].mean()\n",
    "med = kiva[\"loan_amount\"].median()\n",
    "std =  kiva[\"loan_amount\"].std()\n",
    "print(f\"Mean is {mean}\")\n",
    "print(f\"Median is {med}\")\n",
    "print(f\"Standard dev is {std}\")\n",
    "\n",
    "#going with the median since the standard deviation is so high"
   ]
  },
  {
   "cell_type": "code",
   "execution_count": 6,
   "metadata": {},
   "outputs": [
    {
     "data": {
      "text/html": [
       "<div>\n",
       "<style scoped>\n",
       "    .dataframe tbody tr th:only-of-type {\n",
       "        vertical-align: middle;\n",
       "    }\n",
       "\n",
       "    .dataframe tbody tr th {\n",
       "        vertical-align: top;\n",
       "    }\n",
       "\n",
       "    .dataframe thead th {\n",
       "        text-align: right;\n",
       "    }\n",
       "</style>\n",
       "<table border=\"1\" class=\"dataframe\">\n",
       "  <thead>\n",
       "    <tr style=\"text-align: right;\">\n",
       "      <th></th>\n",
       "      <th>Hours_Studied</th>\n",
       "      <th>Attendance</th>\n",
       "      <th>Sleep_Hours</th>\n",
       "      <th>Previous_Scores</th>\n",
       "      <th>Motivation_Level</th>\n",
       "      <th>Tutoring_Sessions</th>\n",
       "      <th>Family_Income</th>\n",
       "      <th>Teacher_Quality</th>\n",
       "      <th>Physical_Activity</th>\n",
       "      <th>Learning_Disabilities</th>\n",
       "      <th>Parental_Education_Level</th>\n",
       "      <th>Distance_from_Home</th>\n",
       "      <th>Gender</th>\n",
       "      <th>Exam_Score</th>\n",
       "    </tr>\n",
       "  </thead>\n",
       "  <tbody>\n",
       "    <tr>\n",
       "      <th>0</th>\n",
       "      <td>23</td>\n",
       "      <td>84</td>\n",
       "      <td>7</td>\n",
       "      <td>73</td>\n",
       "      <td>1</td>\n",
       "      <td>0</td>\n",
       "      <td>1</td>\n",
       "      <td>2</td>\n",
       "      <td>3</td>\n",
       "      <td>0</td>\n",
       "      <td>1</td>\n",
       "      <td>2</td>\n",
       "      <td>1</td>\n",
       "      <td>67</td>\n",
       "    </tr>\n",
       "    <tr>\n",
       "      <th>1</th>\n",
       "      <td>19</td>\n",
       "      <td>64</td>\n",
       "      <td>8</td>\n",
       "      <td>59</td>\n",
       "      <td>1</td>\n",
       "      <td>2</td>\n",
       "      <td>2</td>\n",
       "      <td>2</td>\n",
       "      <td>4</td>\n",
       "      <td>0</td>\n",
       "      <td>0</td>\n",
       "      <td>1</td>\n",
       "      <td>0</td>\n",
       "      <td>61</td>\n",
       "    </tr>\n",
       "    <tr>\n",
       "      <th>2</th>\n",
       "      <td>24</td>\n",
       "      <td>98</td>\n",
       "      <td>7</td>\n",
       "      <td>91</td>\n",
       "      <td>2</td>\n",
       "      <td>2</td>\n",
       "      <td>2</td>\n",
       "      <td>2</td>\n",
       "      <td>4</td>\n",
       "      <td>0</td>\n",
       "      <td>2</td>\n",
       "      <td>2</td>\n",
       "      <td>1</td>\n",
       "      <td>74</td>\n",
       "    </tr>\n",
       "    <tr>\n",
       "      <th>3</th>\n",
       "      <td>29</td>\n",
       "      <td>89</td>\n",
       "      <td>8</td>\n",
       "      <td>98</td>\n",
       "      <td>2</td>\n",
       "      <td>1</td>\n",
       "      <td>2</td>\n",
       "      <td>2</td>\n",
       "      <td>4</td>\n",
       "      <td>0</td>\n",
       "      <td>1</td>\n",
       "      <td>1</td>\n",
       "      <td>1</td>\n",
       "      <td>71</td>\n",
       "    </tr>\n",
       "    <tr>\n",
       "      <th>4</th>\n",
       "      <td>19</td>\n",
       "      <td>92</td>\n",
       "      <td>6</td>\n",
       "      <td>65</td>\n",
       "      <td>2</td>\n",
       "      <td>3</td>\n",
       "      <td>2</td>\n",
       "      <td>0</td>\n",
       "      <td>4</td>\n",
       "      <td>0</td>\n",
       "      <td>0</td>\n",
       "      <td>2</td>\n",
       "      <td>0</td>\n",
       "      <td>70</td>\n",
       "    </tr>\n",
       "    <tr>\n",
       "      <th>...</th>\n",
       "      <td>...</td>\n",
       "      <td>...</td>\n",
       "      <td>...</td>\n",
       "      <td>...</td>\n",
       "      <td>...</td>\n",
       "      <td>...</td>\n",
       "      <td>...</td>\n",
       "      <td>...</td>\n",
       "      <td>...</td>\n",
       "      <td>...</td>\n",
       "      <td>...</td>\n",
       "      <td>...</td>\n",
       "      <td>...</td>\n",
       "      <td>...</td>\n",
       "    </tr>\n",
       "    <tr>\n",
       "      <th>6373</th>\n",
       "      <td>25</td>\n",
       "      <td>69</td>\n",
       "      <td>7</td>\n",
       "      <td>76</td>\n",
       "      <td>2</td>\n",
       "      <td>1</td>\n",
       "      <td>0</td>\n",
       "      <td>2</td>\n",
       "      <td>2</td>\n",
       "      <td>0</td>\n",
       "      <td>1</td>\n",
       "      <td>2</td>\n",
       "      <td>0</td>\n",
       "      <td>68</td>\n",
       "    </tr>\n",
       "    <tr>\n",
       "      <th>6374</th>\n",
       "      <td>23</td>\n",
       "      <td>76</td>\n",
       "      <td>8</td>\n",
       "      <td>81</td>\n",
       "      <td>2</td>\n",
       "      <td>3</td>\n",
       "      <td>1</td>\n",
       "      <td>0</td>\n",
       "      <td>2</td>\n",
       "      <td>0</td>\n",
       "      <td>1</td>\n",
       "      <td>2</td>\n",
       "      <td>0</td>\n",
       "      <td>69</td>\n",
       "    </tr>\n",
       "    <tr>\n",
       "      <th>6375</th>\n",
       "      <td>20</td>\n",
       "      <td>90</td>\n",
       "      <td>6</td>\n",
       "      <td>65</td>\n",
       "      <td>1</td>\n",
       "      <td>3</td>\n",
       "      <td>1</td>\n",
       "      <td>2</td>\n",
       "      <td>2</td>\n",
       "      <td>0</td>\n",
       "      <td>2</td>\n",
       "      <td>2</td>\n",
       "      <td>0</td>\n",
       "      <td>68</td>\n",
       "    </tr>\n",
       "    <tr>\n",
       "      <th>6376</th>\n",
       "      <td>10</td>\n",
       "      <td>86</td>\n",
       "      <td>6</td>\n",
       "      <td>91</td>\n",
       "      <td>0</td>\n",
       "      <td>2</td>\n",
       "      <td>1</td>\n",
       "      <td>2</td>\n",
       "      <td>3</td>\n",
       "      <td>0</td>\n",
       "      <td>1</td>\n",
       "      <td>0</td>\n",
       "      <td>0</td>\n",
       "      <td>68</td>\n",
       "    </tr>\n",
       "    <tr>\n",
       "      <th>6377</th>\n",
       "      <td>15</td>\n",
       "      <td>67</td>\n",
       "      <td>9</td>\n",
       "      <td>94</td>\n",
       "      <td>2</td>\n",
       "      <td>0</td>\n",
       "      <td>2</td>\n",
       "      <td>2</td>\n",
       "      <td>4</td>\n",
       "      <td>0</td>\n",
       "      <td>2</td>\n",
       "      <td>2</td>\n",
       "      <td>1</td>\n",
       "      <td>64</td>\n",
       "    </tr>\n",
       "  </tbody>\n",
       "</table>\n",
       "<p>6378 rows × 14 columns</p>\n",
       "</div>"
      ],
      "text/plain": [
       "      Hours_Studied  Attendance  Sleep_Hours  Previous_Scores  \\\n",
       "0                23          84            7               73   \n",
       "1                19          64            8               59   \n",
       "2                24          98            7               91   \n",
       "3                29          89            8               98   \n",
       "4                19          92            6               65   \n",
       "...             ...         ...          ...              ...   \n",
       "6373             25          69            7               76   \n",
       "6374             23          76            8               81   \n",
       "6375             20          90            6               65   \n",
       "6376             10          86            6               91   \n",
       "6377             15          67            9               94   \n",
       "\n",
       "      Motivation_Level  Tutoring_Sessions  Family_Income  Teacher_Quality  \\\n",
       "0                    1                  0              1                2   \n",
       "1                    1                  2              2                2   \n",
       "2                    2                  2              2                2   \n",
       "3                    2                  1              2                2   \n",
       "4                    2                  3              2                0   \n",
       "...                ...                ...            ...              ...   \n",
       "6373                 2                  1              0                2   \n",
       "6374                 2                  3              1                0   \n",
       "6375                 1                  3              1                2   \n",
       "6376                 0                  2              1                2   \n",
       "6377                 2                  0              2                2   \n",
       "\n",
       "      Physical_Activity  Learning_Disabilities  Parental_Education_Level  \\\n",
       "0                     3                      0                         1   \n",
       "1                     4                      0                         0   \n",
       "2                     4                      0                         2   \n",
       "3                     4                      0                         1   \n",
       "4                     4                      0                         0   \n",
       "...                 ...                    ...                       ...   \n",
       "6373                  2                      0                         1   \n",
       "6374                  2                      0                         1   \n",
       "6375                  2                      0                         2   \n",
       "6376                  3                      0                         1   \n",
       "6377                  4                      0                         2   \n",
       "\n",
       "      Distance_from_Home  Gender  Exam_Score  \n",
       "0                      2       1          67  \n",
       "1                      1       0          61  \n",
       "2                      2       1          74  \n",
       "3                      1       1          71  \n",
       "4                      2       0          70  \n",
       "...                  ...     ...         ...  \n",
       "6373                   2       0          68  \n",
       "6374                   2       0          69  \n",
       "6375                   2       0          68  \n",
       "6376                   0       0          68  \n",
       "6377                   2       1          64  \n",
       "\n",
       "[6378 rows x 14 columns]"
      ]
     },
     "execution_count": 6,
     "metadata": {},
     "output_type": "execute_result"
    }
   ],
   "source": [
    "student_perf.drop(columns={'Unnamed: 0'}, inplace = True)\n",
    "student_perf"
   ]
  },
  {
   "cell_type": "code",
   "execution_count": 7,
   "metadata": {},
   "outputs": [
    {
     "data": {
      "text/plain": [
       "3"
      ]
     },
     "execution_count": 7,
     "metadata": {},
     "output_type": "execute_result"
    }
   ],
   "source": [
    "student_perf['Family_Income'].nunique()"
   ]
  },
  {
   "cell_type": "code",
   "execution_count": 8,
   "metadata": {},
   "outputs": [
    {
     "name": "stdout",
     "output_type": "stream",
     "text": [
      "Mean is 67.25211665098777\n",
      "Median is 67.0\n",
      "Standard dev is 3.9142165067512247\n"
     ]
    }
   ],
   "source": [
    "#finding loan amount avg: \n",
    "mean = student_perf[\"Exam_Score\"].mean()\n",
    "med = student_perf[\"Exam_Score\"].median()\n",
    "std =  student_perf[\"Exam_Score\"].std()\n",
    "print(f\"Mean is {mean}\")\n",
    "print(f\"Median is {med}\")\n",
    "print(f\"Standard dev is {std}\")\n",
    "\n",
    "#going with the median since median and mean are the same"
   ]
  },
  {
   "cell_type": "code",
   "execution_count": 9,
   "metadata": {
    "id": "Wmcb4pEm2G3r"
   },
   "outputs": [],
   "source": [
    "def threshold(df, col):\n",
    "    med = df[col].median()\n",
    "    df[col] = df[col].apply(lambda x: '1' if int(x) > med else '0') #if high loan amount label is 1   \n",
    "    return df\n",
    "  "
   ]
  },
  {
   "cell_type": "markdown",
   "metadata": {
    "id": "I1AgqkPXggcA"
   },
   "source": [
    "### Process training dataset"
   ]
  },
  {
   "cell_type": "code",
   "execution_count": 10,
   "metadata": {
    "id": "gW2xZ8Ep_Lb_"
   },
   "outputs": [],
   "source": [
    "def processing(df, sensitive_feature, target_variable, flag):\n",
    "    #lose sensitive feature\n",
    "    df = df[df[sensitive_feature] == flag]\n",
    "    X = t.from_numpy(np.array(df.drop(columns=[target_variable]))).to(t.float32)\n",
    "    #print(X)\n",
    "    y = t.from_numpy(np.array(df[target_variable]).astype('float32')).reshape(X.shape[0], 1)\n",
    "    #print(y)\n",
    "    return split_data(X, y) #returns a 4 values with data split into test and train containing  only the flagged sensitive feature"
   ]
  },
  {
   "cell_type": "code",
   "execution_count": 11,
   "metadata": {},
   "outputs": [],
   "source": [
    "kiva = threshold(kiva, 'loan_amount')\n",
    "X_train_female_kiva, X_test_female_kiva, y_train_female_kiva, y_test_female_kiva  = processing(kiva, 'borrower_genders', 'loan_amount', 0)\n",
    "X_train_male_kiva, X_test_male_kiva, y_train_male_kiva, y_test_male_kiva  = processing(kiva, 'borrower_genders', 'loan_amount', 1)\n",
    "\n",
    "student_perf = threshold(student_perf, 'Exam_Score')\n",
    "X_train_female_st, X_test_female_st, y_train_female_st, y_test_female_st  = processing(student_perf, 'Gender', 'Exam_Score', 0)\n",
    "X_train_male_st, X_test_male_st, y_train_male_st, y_test_male_st  = processing(student_perf, 'Gender', 'Exam_Score', 1)\n"
   ]
  },
  {
   "cell_type": "code",
   "execution_count": 27,
   "metadata": {
    "id": "i6o_QZFofMTh"
   },
   "outputs": [],
   "source": [
    "# Define a logistic regression model using PyTorch's nn.Module\n",
    "class LogisticRegression(nn.Module):\n",
    "    def __init__(self, flag=0):\n",
    "        # Call the parent constructor to initialize the nn.Module\n",
    "        super(LogisticRegression, self).__init__()\n",
    "\n",
    "        # Define a linear transformation layer (weights and bias) for the model.\n",
    "        # `x_test_female.shape[1]` specifies the number of input features, and `out_features=1` indicates a single output for binary classification.\n",
    "        # The bias term is included by setting bias=True, allowing the model to learn an intercept.\n",
    "        self.flag= flag\n",
    "        self.w =0\n",
    "        if self.flag == 0:\n",
    "            self.w = nn.Linear(X_train_female_kiva.shape[1], out_features=1, bias=True)\n",
    "        else:\n",
    "            self.w = nn.Linear(X_train_female_st.shape[1], out_features=1, bias=True)\n",
    "        \n",
    "\n",
    "        # Initialize a sigmoid activation function, which will be used to convert logits to probabilities.\n",
    "        self.sigmoid = nn.Sigmoid()\n",
    "\n",
    "    def forward(self, x):\n",
    "        # Define the forward pass for the model.\n",
    "        # Apply the linear transformation to the input `x`.\n",
    "        w = self.w(x)\n",
    "\n",
    "        # Apply the sigmoid function to the output of the linear layer.\n",
    "        # This converts the logits (raw output of the linear layer) to probabilities in the range (0, 1).\n",
    "        output = self.sigmoid(w)\n",
    "\n",
    "        # Return the output probabilities.\n",
    "        return output\n"
   ]
  },
  {
   "cell_type": "markdown",
   "metadata": {
    "id": "OGdLb0RyvJAf"
   },
   "source": [
    "## 2.Define PRLR: \n",
    "### Object funtion: Loss function(negative log-likelihood) + Prejudice Remover Regularizer(mutual information) + l2 Regularizer"
   ]
  },
  {
   "cell_type": "code",
   "execution_count": 30,
   "metadata": {
    "id": "UNF5cdsOggcH"
   },
   "outputs": [],
   "source": [
    "class PRLoss():  # Define a class for the probabilistic loss function\n",
    "    def __init__(self, eta=1.0, flag=0):\n",
    "        # Initialize the class with a scaling factor eta.\n",
    "        # The eta parameter can be used to adjust the magnitude of the loss.\n",
    "        super(PRLoss, self).__init__()\n",
    "        self.eta = eta  # Set the eta value for scaling the loss.\n",
    "        self.flag = flag  # Set the flag value, default is 0.\n",
    "\n",
    "\n",
    "    def forward(self, output_f, output_m):\n",
    "       \n",
    "\n",
    "        # The forward method computes the loss based on the outputs for females (output_f) and males (output_m).\n",
    "        \n",
    "        # Calculate the number of female and male samples\n",
    "        N_female = t.tensor(output_f.shape[0])  # Number of female samples\n",
    "        N_male = t.tensor(output_m.shape[0])      # Number of male samples\n",
    "        \n",
    "        # Stack the number of samples for males and females into a tensor\n",
    "        Dxisi = t.stack((N_male, N_female), axis=0)  # Tensor with shape [2] containing male and female counts\n",
    "\n",
    "        # Calculate the predicted probabilities for females and males\n",
    "        y_pred_female = t.sum(output_f)  # Sum of predicted probabilities for females\n",
    "        y_pred_male = t.sum(output_m)      # Sum of predicted probabilities for males\n",
    "        \n",
    "        # Calculate conditional probabilities Pr[y|s]\n",
    "        P_ys = t.stack((y_pred_male, y_pred_female), axis=0) / Dxisi\n",
    "        # P_ys now contains the probabilities of y given the gender (s)\n",
    "\n",
    "        # Calculate overall probability Pr[y]\n",
    "        P = t.cat((output_f, output_m), 0)  # Concatenate female and male predictions\n",
    "        P_y = 0\n",
    "        if self.flag == 0: #kiva dataset\n",
    "            P_y = t.sum(P) / (X_train_female_kiva.shape[0] + X_train_male_kiva.shape[0])  # Overall probability of y\n",
    "        else:\n",
    "            P_y = t.sum(P) / (X_train_female_st.shape[0] + X_train_male_st.shape[0])  # Overall probability of y\n",
    "        # Calculate the individual terms needed for the loss\n",
    "        P_s1y1 = t.log(P_ys[1]) - t.log(P_y)  # Log probability for female given positive class\n",
    "        P_s1y0 = t.log(1 - P_ys[1]) - t.log(1 - P_y)  # Log probability for female given negative class\n",
    "        P_s0y1 = t.log(P_ys[0]) - t.log(P_y)  # Log probability for male given positive class\n",
    "        P_s0y0 = t.log(1 - P_ys[0]) - t.log(1 - P_y)  # Log probability for male given negative class\n",
    "\n",
    "        # Calculate the individual contributions to the loss\n",
    "        PI_s1y1 = output_f * P_s1y1  # Contribution from female samples in positive class\n",
    "        PI_s1y0 = (1 - output_f) * P_s1y0  # Contribution from female samples in negative class\n",
    "        PI_s0y1 = output_m * P_s0y1  # Contribution from male samples in positive class\n",
    "        PI_s0y0 = (1 - output_m) * P_s0y0  # Contribution from male samples in negative class\n",
    "\n",
    "        # Sum all contributions to get the final loss\n",
    "        PI = t.sum(PI_s1y1) + t.sum(PI_s1y0) + t.sum(PI_s0y1) + t.sum(PI_s0y0)\n",
    "        PI = self.eta * PI  # Scale the loss by eta\n",
    "\n",
    "        return PI  # Return the computed loss\n"
   ]
  },
  {
   "cell_type": "markdown",
   "metadata": {
    "id": "qL0RoEEwCXUF"
   },
   "source": [
    "## 3.Model Validation"
   ]
  },
  {
   "cell_type": "markdown",
   "metadata": {
    "id": "jsZ31V_HDIYG"
   },
   "source": [
    "### Accuracy"
   ]
  },
  {
   "cell_type": "code",
   "execution_count": 14,
   "metadata": {
    "id": "VlbtXBfZggcL"
   },
   "outputs": [],
   "source": [
    "def accuracy(Model_f, Model_m, X_train_female, y_train_female, X_train_male, y_train_male):\n",
    "    # Generate predictions for female samples using the female model.\n",
    "    yf_pred = (Model_f(X_train_female) >= 0.5)  # Apply the model and threshold at 0.5 to get binary predictions.\n",
    "    \n",
    "    # Generate predictions for male samples using the male model.\n",
    "    ym_pred = (Model_m(X_train_male) >= 0.5)  # Apply the model and threshold at 0.5 to get binary predictions.\n",
    "    \n",
    "    # Calculate accuracy for female predictions.\n",
    "    accu_f = t.sum(yf_pred.flatten() == y_train_female.flatten()) / X_train_female.shape[0]  \n",
    "    # Compare predicted labels with actual labels and compute the fraction of correct predictions.\n",
    "    \n",
    "    # Calculate accuracy for male predictions.\n",
    "    accu_m = t.sum(ym_pred.flatten() == y_train_male.flatten()) / X_train_male.shape[0]  \n",
    "    # Compare predicted labels with actual labels and compute the fraction of correct predictions.\n",
    "\n",
    "    # Compute the average accuracy across both models.\n",
    "    accuracy = (accu_f + accu_m) / 2  \n",
    "    \n",
    "    # Return the accuracy rounded to four decimal places.\n",
    "    return round(accuracy.item(), 4)  \n",
    "\n",
    "    # Print the accuracy percentage.\n",
    "    print(\"Accuracy : %.3f\" % (accuracy * 100) + '%') \n"
   ]
  },
  {
   "cell_type": "markdown",
   "metadata": {
    "id": "mhQd4-6kDLJt"
   },
   "source": [
    "### CV_score"
   ]
  },
  {
   "cell_type": "code",
   "execution_count": 15,
   "metadata": {
    "id": "hypivDDLggcN"
   },
   "outputs": [],
   "source": [
    "def CVS(Model_f, Model_m, X_train_female, X_train_male):\n",
    "    # Generate predictions for female samples using the female model.\n",
    "    yf_pred = (Model_f(X_train_female) >= 0.5)  # Apply the model and threshold at 0.5 to get binary predictions.\n",
    "    \n",
    "    # Generate predictions for male samples using the male model.\n",
    "    ym_pred = (Model_m(X_train_male) >= 0.5)  # Apply the model and threshold at 0.5 to get binary predictions.\n",
    "    \n",
    "    # Count the number of correct predictions for female samples.\n",
    "    corr_f = t.sum(yf_pred == True)  # Count how many female predictions are True (1).\n",
    "    \n",
    "    # Count the number of correct predictions for male samples.\n",
    "    corr_m = t.sum(ym_pred == True)  # Count how many male predictions are True (1).\n",
    "    \n",
    "    # Calculate the probability of predicting income as >50K for females.\n",
    "    P_y1_s1 = corr_f / X_train_female.shape[0]  # Probability of positive predictions among females.\n",
    "    \n",
    "    # Calculate the probability of predicting income as >50K for males.\n",
    "    P_y1_s0 = corr_m / X_train_male.shape[0]  # Probability of positive predictions among males.\n",
    "    \n",
    "    # Calculate the Calder-Verwer discrimination score, which measures the difference in positive prediction probabilities.\n",
    "    CV_score = t.abs(P_y1_s0 - P_y1_s1)  # Absolute difference between the two probabilities.\n",
    "    \n",
    "    # Return the Calder-Verwer discrimination score rounded to four decimal places.\n",
    "    return round(CV_score.item(), 4)  \n",
    "    \n",
    "    # Print the Calder-Verwer discrimination score.\n",
    "    print ('Calder-Verwer discrimination score: %.4f' % (CV_score.item()))  \n"
   ]
  },
  {
   "cell_type": "markdown",
   "metadata": {
    "id": "uM4hLdwIggcN"
   },
   "source": [
    "## 4.Model implementation: Logistic regression model with PR Regularizer"
   ]
  },
  {
   "cell_type": "code",
   "execution_count": 79,
   "metadata": {
    "id": "cn5YdG02BB8Y"
   },
   "outputs": [],
   "source": [
    "class PRLR():  # Class definition for a linear model focused on parity regularization.\n",
    "    def __init__(self, eta=0.0, epochs=3000, lr=0.01, flag=0):\n",
    "        super(PRLR, self).__init__()  # Call the constructor of the parent class.\n",
    "        self.eta = eta  # Coefficient for the fairness term in the loss function.\n",
    "        self.epochs = epochs  # Number of training epochs.\n",
    "        self.lr = lr  # Learning rate for the optimizer.\n",
    "        self.flag = flag\n",
    "\n",
    "    def fit(self, X_train_female, y_train_female, X_train_male, y_train_male):\n",
    "        # Initialize logistic regression models for females and males.\n",
    "        model_f = LogisticRegression(self.flag)  # Model for female data.\n",
    "        model_m = LogisticRegression(self.flag)  # Model for male data.\n",
    "\n",
    "        # Define the binary cross-entropy loss criterion.\n",
    "        criterion = nn.BCELoss(reduction='sum')  # Binary cross-entropy loss.\n",
    "\n",
    "        # Initialize the custom loss function for parity regularization.\n",
    "        PI = PRLoss(eta=self.eta, flag=self.flag)\n",
    "\n",
    "        # Set the number of epochs for training.\n",
    "        epochs = self.epochs\n",
    "\n",
    "        # Create an optimizer that combines the parameters of both models.\n",
    "        optimizer = t.optim.Adam(list(model_f.parameters()) + list(model_m.parameters()), self.lr, weight_decay=1e-5)\n",
    "\n",
    "        # Training loop\n",
    "        for epoch in range(epochs):\n",
    "            optimizer.zero_grad()  # Reset gradients for the optimizer.\n",
    "            \n",
    "            # Forward pass: compute predictions for both models.\n",
    "            \n",
    "            output_f = t.sigmoid(model_f(X_train_female))  # Predictions for female input.\n",
    "            output_m = t.sigmoid(model_m(X_train_male))  # Predictions for male input.\n",
    "\n",
    "        \n",
    "            # Calculate the binary cross-entropy loss for both outputs.\n",
    "            logloss = criterion(output_f, y_train_female) + criterion(output_m, y_train_male)\n",
    "\n",
    "            # Calculate the parity regularization loss.\n",
    "            PIloss = PI.forward(output_f, output_m)\n",
    "\n",
    "            # Total loss is the sum of log loss and parity regularization loss.\n",
    "            loss = PIloss + logloss\n",
    "\n",
    "            # Backward pass: compute gradients.\n",
    "            loss.backward()\n",
    "\n",
    "            # Update model parameters using the optimizer.\n",
    "            optimizer.step()\n",
    "\n",
    "        # Set models to evaluation mode after training is done.\n",
    "        model_f.eval()  \n",
    "        model_m.eval()\n",
    "\n",
    "        # Calculate accuracy and Calder-Verwer discrimination score.\n",
    "        accu = accuracy(model_f, model_m, X_train_female, y_train_female, X_train_male, y_train_male)  # Get accuracy.\n",
    "        cvs = CVS(model_f, model_m, X_train_female, X_train_male)  # Get Calder-Verwer score.\n",
    "\n",
    "        return accu, cvs  # Return accuracy and Calder-Verwer score.\n"
   ]
  },
  {
   "cell_type": "markdown",
   "metadata": {
    "id": "cm_J3VwJMtJc"
   },
   "source": [
    "## 5.change eta and observe the change of accuracy and CV-score"
   ]
  },
  {
   "cell_type": "code",
   "execution_count": 80,
   "metadata": {
    "id": "cmThrMH9IBrH"
   },
   "outputs": [
    {
     "data": {
      "text/plain": [
       "tensor([[0.6603],\n",
       "        [0.3911]])"
      ]
     },
     "execution_count": 80,
     "metadata": {},
     "output_type": "execute_result"
    }
   ],
   "source": [
    "PR = PRLR(eta = 1.0, epochs = 3000, lr = 0.01, flag =0)\n",
    "t.tensor(PR.fit(X_train_female_kiva,y_train_female_kiva,X_train_male_kiva,y_train_male_kiva)).reshape(2,1)"
   ]
  },
  {
   "cell_type": "code",
   "execution_count": 22,
   "metadata": {},
   "outputs": [
    {
     "name": "stdout",
     "output_type": "stream",
     "text": [
      "training sample CV_score : -0.2092\n"
     ]
    }
   ],
   "source": [
    "# CVscore: Calder-Verwer discrimination score\n",
    "# CV score on sample data: Pr[y=1 | S=0] - Pr[y=1 | S=1]\n",
    "# For sample training data\n",
    "\n",
    "#kiva:\n",
    "kiva['loan_amount'] = kiva['loan_amount'].astype(int)\n",
    "high_f = kiva[(kiva['borrower_genders'] == 1) & (kiva['loan_amount'] == 1)]\n",
    "pf = kiva[(kiva['borrower_genders'] == 1)]\n",
    "high_m = kiva[(kiva['borrower_genders'] == 0) & (kiva['loan_amount'] == 1)]\n",
    "pm = kiva[(kiva['borrower_genders'] == 0)]\n",
    "\n",
    "p_c1s1 = high_f.shape[0]/pf.shape[0]\n",
    "p_c1s0 = high_m.shape[0]/pm.shape[0]\n",
    "p_cs = p_c1s0 - p_c1s1\n",
    "\n",
    "print('training sample CV_score : %.4f' %( p_cs))"
   ]
  },
  {
   "cell_type": "code",
   "execution_count": 24,
   "metadata": {},
   "outputs": [
    {
     "data": {
      "text/html": [
       "<div>\n",
       "<style scoped>\n",
       "    .dataframe tbody tr th:only-of-type {\n",
       "        vertical-align: middle;\n",
       "    }\n",
       "\n",
       "    .dataframe tbody tr th {\n",
       "        vertical-align: top;\n",
       "    }\n",
       "\n",
       "    .dataframe thead th {\n",
       "        text-align: right;\n",
       "    }\n",
       "</style>\n",
       "<table border=\"1\" class=\"dataframe\">\n",
       "  <thead>\n",
       "    <tr style=\"text-align: right;\">\n",
       "      <th></th>\n",
       "      <th>Hours_Studied</th>\n",
       "      <th>Attendance</th>\n",
       "      <th>Sleep_Hours</th>\n",
       "      <th>Previous_Scores</th>\n",
       "      <th>Motivation_Level</th>\n",
       "      <th>Tutoring_Sessions</th>\n",
       "      <th>Family_Income</th>\n",
       "      <th>Teacher_Quality</th>\n",
       "      <th>Physical_Activity</th>\n",
       "      <th>Learning_Disabilities</th>\n",
       "      <th>Parental_Education_Level</th>\n",
       "      <th>Distance_from_Home</th>\n",
       "      <th>Gender</th>\n",
       "      <th>Exam_Score</th>\n",
       "    </tr>\n",
       "  </thead>\n",
       "  <tbody>\n",
       "    <tr>\n",
       "      <th>0</th>\n",
       "      <td>23</td>\n",
       "      <td>84</td>\n",
       "      <td>7</td>\n",
       "      <td>73</td>\n",
       "      <td>1</td>\n",
       "      <td>0</td>\n",
       "      <td>1</td>\n",
       "      <td>2</td>\n",
       "      <td>3</td>\n",
       "      <td>0</td>\n",
       "      <td>1</td>\n",
       "      <td>2</td>\n",
       "      <td>1</td>\n",
       "      <td>0</td>\n",
       "    </tr>\n",
       "    <tr>\n",
       "      <th>1</th>\n",
       "      <td>19</td>\n",
       "      <td>64</td>\n",
       "      <td>8</td>\n",
       "      <td>59</td>\n",
       "      <td>1</td>\n",
       "      <td>2</td>\n",
       "      <td>2</td>\n",
       "      <td>2</td>\n",
       "      <td>4</td>\n",
       "      <td>0</td>\n",
       "      <td>0</td>\n",
       "      <td>1</td>\n",
       "      <td>0</td>\n",
       "      <td>0</td>\n",
       "    </tr>\n",
       "    <tr>\n",
       "      <th>2</th>\n",
       "      <td>24</td>\n",
       "      <td>98</td>\n",
       "      <td>7</td>\n",
       "      <td>91</td>\n",
       "      <td>2</td>\n",
       "      <td>2</td>\n",
       "      <td>2</td>\n",
       "      <td>2</td>\n",
       "      <td>4</td>\n",
       "      <td>0</td>\n",
       "      <td>2</td>\n",
       "      <td>2</td>\n",
       "      <td>1</td>\n",
       "      <td>1</td>\n",
       "    </tr>\n",
       "    <tr>\n",
       "      <th>3</th>\n",
       "      <td>29</td>\n",
       "      <td>89</td>\n",
       "      <td>8</td>\n",
       "      <td>98</td>\n",
       "      <td>2</td>\n",
       "      <td>1</td>\n",
       "      <td>2</td>\n",
       "      <td>2</td>\n",
       "      <td>4</td>\n",
       "      <td>0</td>\n",
       "      <td>1</td>\n",
       "      <td>1</td>\n",
       "      <td>1</td>\n",
       "      <td>1</td>\n",
       "    </tr>\n",
       "    <tr>\n",
       "      <th>4</th>\n",
       "      <td>19</td>\n",
       "      <td>92</td>\n",
       "      <td>6</td>\n",
       "      <td>65</td>\n",
       "      <td>2</td>\n",
       "      <td>3</td>\n",
       "      <td>2</td>\n",
       "      <td>0</td>\n",
       "      <td>4</td>\n",
       "      <td>0</td>\n",
       "      <td>0</td>\n",
       "      <td>2</td>\n",
       "      <td>0</td>\n",
       "      <td>1</td>\n",
       "    </tr>\n",
       "    <tr>\n",
       "      <th>...</th>\n",
       "      <td>...</td>\n",
       "      <td>...</td>\n",
       "      <td>...</td>\n",
       "      <td>...</td>\n",
       "      <td>...</td>\n",
       "      <td>...</td>\n",
       "      <td>...</td>\n",
       "      <td>...</td>\n",
       "      <td>...</td>\n",
       "      <td>...</td>\n",
       "      <td>...</td>\n",
       "      <td>...</td>\n",
       "      <td>...</td>\n",
       "      <td>...</td>\n",
       "    </tr>\n",
       "    <tr>\n",
       "      <th>6373</th>\n",
       "      <td>25</td>\n",
       "      <td>69</td>\n",
       "      <td>7</td>\n",
       "      <td>76</td>\n",
       "      <td>2</td>\n",
       "      <td>1</td>\n",
       "      <td>0</td>\n",
       "      <td>2</td>\n",
       "      <td>2</td>\n",
       "      <td>0</td>\n",
       "      <td>1</td>\n",
       "      <td>2</td>\n",
       "      <td>0</td>\n",
       "      <td>1</td>\n",
       "    </tr>\n",
       "    <tr>\n",
       "      <th>6374</th>\n",
       "      <td>23</td>\n",
       "      <td>76</td>\n",
       "      <td>8</td>\n",
       "      <td>81</td>\n",
       "      <td>2</td>\n",
       "      <td>3</td>\n",
       "      <td>1</td>\n",
       "      <td>0</td>\n",
       "      <td>2</td>\n",
       "      <td>0</td>\n",
       "      <td>1</td>\n",
       "      <td>2</td>\n",
       "      <td>0</td>\n",
       "      <td>1</td>\n",
       "    </tr>\n",
       "    <tr>\n",
       "      <th>6375</th>\n",
       "      <td>20</td>\n",
       "      <td>90</td>\n",
       "      <td>6</td>\n",
       "      <td>65</td>\n",
       "      <td>1</td>\n",
       "      <td>3</td>\n",
       "      <td>1</td>\n",
       "      <td>2</td>\n",
       "      <td>2</td>\n",
       "      <td>0</td>\n",
       "      <td>2</td>\n",
       "      <td>2</td>\n",
       "      <td>0</td>\n",
       "      <td>1</td>\n",
       "    </tr>\n",
       "    <tr>\n",
       "      <th>6376</th>\n",
       "      <td>10</td>\n",
       "      <td>86</td>\n",
       "      <td>6</td>\n",
       "      <td>91</td>\n",
       "      <td>0</td>\n",
       "      <td>2</td>\n",
       "      <td>1</td>\n",
       "      <td>2</td>\n",
       "      <td>3</td>\n",
       "      <td>0</td>\n",
       "      <td>1</td>\n",
       "      <td>0</td>\n",
       "      <td>0</td>\n",
       "      <td>1</td>\n",
       "    </tr>\n",
       "    <tr>\n",
       "      <th>6377</th>\n",
       "      <td>15</td>\n",
       "      <td>67</td>\n",
       "      <td>9</td>\n",
       "      <td>94</td>\n",
       "      <td>2</td>\n",
       "      <td>0</td>\n",
       "      <td>2</td>\n",
       "      <td>2</td>\n",
       "      <td>4</td>\n",
       "      <td>0</td>\n",
       "      <td>2</td>\n",
       "      <td>2</td>\n",
       "      <td>1</td>\n",
       "      <td>0</td>\n",
       "    </tr>\n",
       "  </tbody>\n",
       "</table>\n",
       "<p>6378 rows × 14 columns</p>\n",
       "</div>"
      ],
      "text/plain": [
       "      Hours_Studied  Attendance  Sleep_Hours  Previous_Scores  \\\n",
       "0                23          84            7               73   \n",
       "1                19          64            8               59   \n",
       "2                24          98            7               91   \n",
       "3                29          89            8               98   \n",
       "4                19          92            6               65   \n",
       "...             ...         ...          ...              ...   \n",
       "6373             25          69            7               76   \n",
       "6374             23          76            8               81   \n",
       "6375             20          90            6               65   \n",
       "6376             10          86            6               91   \n",
       "6377             15          67            9               94   \n",
       "\n",
       "      Motivation_Level  Tutoring_Sessions  Family_Income  Teacher_Quality  \\\n",
       "0                    1                  0              1                2   \n",
       "1                    1                  2              2                2   \n",
       "2                    2                  2              2                2   \n",
       "3                    2                  1              2                2   \n",
       "4                    2                  3              2                0   \n",
       "...                ...                ...            ...              ...   \n",
       "6373                 2                  1              0                2   \n",
       "6374                 2                  3              1                0   \n",
       "6375                 1                  3              1                2   \n",
       "6376                 0                  2              1                2   \n",
       "6377                 2                  0              2                2   \n",
       "\n",
       "      Physical_Activity  Learning_Disabilities  Parental_Education_Level  \\\n",
       "0                     3                      0                         1   \n",
       "1                     4                      0                         0   \n",
       "2                     4                      0                         2   \n",
       "3                     4                      0                         1   \n",
       "4                     4                      0                         0   \n",
       "...                 ...                    ...                       ...   \n",
       "6373                  2                      0                         1   \n",
       "6374                  2                      0                         1   \n",
       "6375                  2                      0                         2   \n",
       "6376                  3                      0                         1   \n",
       "6377                  4                      0                         2   \n",
       "\n",
       "      Distance_from_Home  Gender Exam_Score  \n",
       "0                      2       1          0  \n",
       "1                      1       0          0  \n",
       "2                      2       1          1  \n",
       "3                      1       1          1  \n",
       "4                      2       0          1  \n",
       "...                  ...     ...        ...  \n",
       "6373                   2       0          1  \n",
       "6374                   2       0          1  \n",
       "6375                   2       0          1  \n",
       "6376                   0       0          1  \n",
       "6377                   2       1          0  \n",
       "\n",
       "[6378 rows x 14 columns]"
      ]
     },
     "execution_count": 24,
     "metadata": {},
     "output_type": "execute_result"
    }
   ],
   "source": [
    "student_perf"
   ]
  },
  {
   "cell_type": "code",
   "execution_count": 25,
   "metadata": {},
   "outputs": [
    {
     "name": "stdout",
     "output_type": "stream",
     "text": [
      "training sample CV_score : 0.0008\n"
     ]
    }
   ],
   "source": [
    "#for student performance:\n",
    "# CVscore: Calder-Verwer discrimination score\n",
    "# CV score on sample data: Pr[y=1 | S=0] - Pr[y=1 | S=1]\n",
    "# For sample training data\n",
    "\n",
    "#student p:\n",
    "student_perf['Exam_Score'] = student_perf['Exam_Score'].astype(int)\n",
    "high_f = student_perf[(student_perf['Gender'] == 1) & (student_perf['Exam_Score'] == 1)]\n",
    "pf = student_perf[(student_perf['Gender'] == 1)]\n",
    "high_m = student_perf[(student_perf['Gender'] == 0) & (student_perf['Exam_Score'] == 1)]\n",
    "pm = student_perf[(student_perf['Gender'] == 0)]\n",
    "\n",
    "p_c1s1 = high_f.shape[0]/pf.shape[0]\n",
    "p_c1s0 = high_m.shape[0]/pm.shape[0]\n",
    "p_cs = p_c1s0 - p_c1s1\n",
    "\n",
    "print('training sample CV_score : %.4f' %( p_cs))"
   ]
  },
  {
   "cell_type": "code",
   "execution_count": 31,
   "metadata": {},
   "outputs": [
    {
     "name": "stdout",
     "output_type": "stream",
     "text": [
      "Flag\n",
      "1\n"
     ]
    },
    {
     "data": {
      "text/plain": [
       "tensor([[0.8631],\n",
       "        [0.0269]])"
      ]
     },
     "execution_count": 31,
     "metadata": {},
     "output_type": "execute_result"
    }
   ],
   "source": [
    "PR = PRLR(eta = 1.0, epochs = 3000, lr = 0.01, flag =1)\n",
    "t.tensor(PR.fit(X_train_female_st,y_train_female_st,X_train_male_st,y_train_male_st)).reshape(2,1)"
   ]
  },
  {
   "cell_type": "code",
   "execution_count": 88,
   "metadata": {},
   "outputs": [
    {
     "data": {
      "text/html": [
       "<div>\n",
       "<style scoped>\n",
       "    .dataframe tbody tr th:only-of-type {\n",
       "        vertical-align: middle;\n",
       "    }\n",
       "\n",
       "    .dataframe tbody tr th {\n",
       "        vertical-align: top;\n",
       "    }\n",
       "\n",
       "    .dataframe thead th {\n",
       "        text-align: right;\n",
       "    }\n",
       "</style>\n",
       "<table border=\"1\" class=\"dataframe\">\n",
       "  <thead>\n",
       "    <tr style=\"text-align: right;\">\n",
       "      <th></th>\n",
       "      <th>Hours_Studied</th>\n",
       "      <th>Attendance</th>\n",
       "      <th>Sleep_Hours</th>\n",
       "      <th>Previous_Scores</th>\n",
       "      <th>Motivation_Level</th>\n",
       "      <th>Tutoring_Sessions</th>\n",
       "      <th>Family_Income</th>\n",
       "      <th>Teacher_Quality</th>\n",
       "      <th>Physical_Activity</th>\n",
       "      <th>Learning_Disabilities</th>\n",
       "      <th>Parental_Education_Level</th>\n",
       "      <th>Distance_from_Home</th>\n",
       "      <th>Gender</th>\n",
       "      <th>Exam_Score</th>\n",
       "    </tr>\n",
       "  </thead>\n",
       "  <tbody>\n",
       "    <tr>\n",
       "      <th>0</th>\n",
       "      <td>23</td>\n",
       "      <td>84</td>\n",
       "      <td>7</td>\n",
       "      <td>73</td>\n",
       "      <td>1</td>\n",
       "      <td>0</td>\n",
       "      <td>0</td>\n",
       "      <td>2</td>\n",
       "      <td>3</td>\n",
       "      <td>0</td>\n",
       "      <td>1</td>\n",
       "      <td>2</td>\n",
       "      <td>1</td>\n",
       "      <td>0</td>\n",
       "    </tr>\n",
       "    <tr>\n",
       "      <th>1</th>\n",
       "      <td>19</td>\n",
       "      <td>64</td>\n",
       "      <td>8</td>\n",
       "      <td>59</td>\n",
       "      <td>1</td>\n",
       "      <td>2</td>\n",
       "      <td>1</td>\n",
       "      <td>2</td>\n",
       "      <td>4</td>\n",
       "      <td>0</td>\n",
       "      <td>0</td>\n",
       "      <td>1</td>\n",
       "      <td>0</td>\n",
       "      <td>0</td>\n",
       "    </tr>\n",
       "    <tr>\n",
       "      <th>2</th>\n",
       "      <td>24</td>\n",
       "      <td>98</td>\n",
       "      <td>7</td>\n",
       "      <td>91</td>\n",
       "      <td>2</td>\n",
       "      <td>2</td>\n",
       "      <td>1</td>\n",
       "      <td>2</td>\n",
       "      <td>4</td>\n",
       "      <td>0</td>\n",
       "      <td>2</td>\n",
       "      <td>2</td>\n",
       "      <td>1</td>\n",
       "      <td>1</td>\n",
       "    </tr>\n",
       "    <tr>\n",
       "      <th>3</th>\n",
       "      <td>29</td>\n",
       "      <td>89</td>\n",
       "      <td>8</td>\n",
       "      <td>98</td>\n",
       "      <td>2</td>\n",
       "      <td>1</td>\n",
       "      <td>1</td>\n",
       "      <td>2</td>\n",
       "      <td>4</td>\n",
       "      <td>0</td>\n",
       "      <td>1</td>\n",
       "      <td>1</td>\n",
       "      <td>1</td>\n",
       "      <td>1</td>\n",
       "    </tr>\n",
       "    <tr>\n",
       "      <th>4</th>\n",
       "      <td>19</td>\n",
       "      <td>92</td>\n",
       "      <td>6</td>\n",
       "      <td>65</td>\n",
       "      <td>2</td>\n",
       "      <td>3</td>\n",
       "      <td>1</td>\n",
       "      <td>0</td>\n",
       "      <td>4</td>\n",
       "      <td>0</td>\n",
       "      <td>0</td>\n",
       "      <td>2</td>\n",
       "      <td>0</td>\n",
       "      <td>1</td>\n",
       "    </tr>\n",
       "    <tr>\n",
       "      <th>...</th>\n",
       "      <td>...</td>\n",
       "      <td>...</td>\n",
       "      <td>...</td>\n",
       "      <td>...</td>\n",
       "      <td>...</td>\n",
       "      <td>...</td>\n",
       "      <td>...</td>\n",
       "      <td>...</td>\n",
       "      <td>...</td>\n",
       "      <td>...</td>\n",
       "      <td>...</td>\n",
       "      <td>...</td>\n",
       "      <td>...</td>\n",
       "      <td>...</td>\n",
       "    </tr>\n",
       "    <tr>\n",
       "      <th>6373</th>\n",
       "      <td>25</td>\n",
       "      <td>69</td>\n",
       "      <td>7</td>\n",
       "      <td>76</td>\n",
       "      <td>2</td>\n",
       "      <td>1</td>\n",
       "      <td>0</td>\n",
       "      <td>2</td>\n",
       "      <td>2</td>\n",
       "      <td>0</td>\n",
       "      <td>1</td>\n",
       "      <td>2</td>\n",
       "      <td>0</td>\n",
       "      <td>1</td>\n",
       "    </tr>\n",
       "    <tr>\n",
       "      <th>6374</th>\n",
       "      <td>23</td>\n",
       "      <td>76</td>\n",
       "      <td>8</td>\n",
       "      <td>81</td>\n",
       "      <td>2</td>\n",
       "      <td>3</td>\n",
       "      <td>0</td>\n",
       "      <td>0</td>\n",
       "      <td>2</td>\n",
       "      <td>0</td>\n",
       "      <td>1</td>\n",
       "      <td>2</td>\n",
       "      <td>0</td>\n",
       "      <td>1</td>\n",
       "    </tr>\n",
       "    <tr>\n",
       "      <th>6375</th>\n",
       "      <td>20</td>\n",
       "      <td>90</td>\n",
       "      <td>6</td>\n",
       "      <td>65</td>\n",
       "      <td>1</td>\n",
       "      <td>3</td>\n",
       "      <td>0</td>\n",
       "      <td>2</td>\n",
       "      <td>2</td>\n",
       "      <td>0</td>\n",
       "      <td>2</td>\n",
       "      <td>2</td>\n",
       "      <td>0</td>\n",
       "      <td>1</td>\n",
       "    </tr>\n",
       "    <tr>\n",
       "      <th>6376</th>\n",
       "      <td>10</td>\n",
       "      <td>86</td>\n",
       "      <td>6</td>\n",
       "      <td>91</td>\n",
       "      <td>0</td>\n",
       "      <td>2</td>\n",
       "      <td>0</td>\n",
       "      <td>2</td>\n",
       "      <td>3</td>\n",
       "      <td>0</td>\n",
       "      <td>1</td>\n",
       "      <td>0</td>\n",
       "      <td>0</td>\n",
       "      <td>1</td>\n",
       "    </tr>\n",
       "    <tr>\n",
       "      <th>6377</th>\n",
       "      <td>15</td>\n",
       "      <td>67</td>\n",
       "      <td>9</td>\n",
       "      <td>94</td>\n",
       "      <td>2</td>\n",
       "      <td>0</td>\n",
       "      <td>1</td>\n",
       "      <td>2</td>\n",
       "      <td>4</td>\n",
       "      <td>0</td>\n",
       "      <td>2</td>\n",
       "      <td>2</td>\n",
       "      <td>1</td>\n",
       "      <td>0</td>\n",
       "    </tr>\n",
       "  </tbody>\n",
       "</table>\n",
       "<p>6378 rows × 14 columns</p>\n",
       "</div>"
      ],
      "text/plain": [
       "      Hours_Studied  Attendance  Sleep_Hours  Previous_Scores  \\\n",
       "0                23          84            7               73   \n",
       "1                19          64            8               59   \n",
       "2                24          98            7               91   \n",
       "3                29          89            8               98   \n",
       "4                19          92            6               65   \n",
       "...             ...         ...          ...              ...   \n",
       "6373             25          69            7               76   \n",
       "6374             23          76            8               81   \n",
       "6375             20          90            6               65   \n",
       "6376             10          86            6               91   \n",
       "6377             15          67            9               94   \n",
       "\n",
       "      Motivation_Level  Tutoring_Sessions  Family_Income  Teacher_Quality  \\\n",
       "0                    1                  0              0                2   \n",
       "1                    1                  2              1                2   \n",
       "2                    2                  2              1                2   \n",
       "3                    2                  1              1                2   \n",
       "4                    2                  3              1                0   \n",
       "...                ...                ...            ...              ...   \n",
       "6373                 2                  1              0                2   \n",
       "6374                 2                  3              0                0   \n",
       "6375                 1                  3              0                2   \n",
       "6376                 0                  2              0                2   \n",
       "6377                 2                  0              1                2   \n",
       "\n",
       "      Physical_Activity  Learning_Disabilities  Parental_Education_Level  \\\n",
       "0                     3                      0                         1   \n",
       "1                     4                      0                         0   \n",
       "2                     4                      0                         2   \n",
       "3                     4                      0                         1   \n",
       "4                     4                      0                         0   \n",
       "...                 ...                    ...                       ...   \n",
       "6373                  2                      0                         1   \n",
       "6374                  2                      0                         1   \n",
       "6375                  2                      0                         2   \n",
       "6376                  3                      0                         1   \n",
       "6377                  4                      0                         2   \n",
       "\n",
       "      Distance_from_Home  Gender  Exam_Score  \n",
       "0                      2       1           0  \n",
       "1                      1       0           0  \n",
       "2                      2       1           1  \n",
       "3                      1       1           1  \n",
       "4                      2       0           1  \n",
       "...                  ...     ...         ...  \n",
       "6373                   2       0           1  \n",
       "6374                   2       0           1  \n",
       "6375                   2       0           1  \n",
       "6376                   0       0           1  \n",
       "6377                   2       1           0  \n",
       "\n",
       "[6378 rows x 14 columns]"
      ]
     },
     "execution_count": 88,
     "metadata": {},
     "output_type": "execute_result"
    }
   ],
   "source": [
    "#checking if it works for family income\n",
    "student_perf['Family_Income'] = student_perf['Family_Income'].apply(lambda x: 0 if x in [0, 1] else 1)\n",
    "student_perf"
   ]
  },
  {
   "cell_type": "markdown",
   "metadata": {
    "id": "w1hlo6X5M9Bj"
   },
   "source": [
    "## 6.Results Plot"
   ]
  },
  {
   "cell_type": "markdown",
   "metadata": {},
   "source": [
    "## Kiva"
   ]
  },
  {
   "cell_type": "code",
   "execution_count": 128,
   "metadata": {
    "id": "Wd7Tfk78MjEH"
   },
   "outputs": [],
   "source": [
    "eta_value = [0.0,1.0,2.0,3.0,4.0,5.0,10.0,15.0,20.0,25.0,30.0,80.0]\n",
    "PR = PRLR(eta = 0.0, epochs = 3000, lr = 0.01, flag=0)\n",
    "accv = t.tensor(PR.fit(X_train_female_kiva,y_train_female_kiva,X_train_male_kiva,y_train_male_kiva)).reshape(2,1)"
   ]
  },
  {
   "cell_type": "code",
   "execution_count": 129,
   "metadata": {
    "id": "Gi8Re90_NfYX"
   },
   "outputs": [],
   "source": [
    "eta_accu = []\n",
    "eta_cvs = []\n",
    "for e in range(0,len(eta_value)):\n",
    "  PR = PRLR(eta = eta_value[e], epochs = 3000, lr = 0.01, flag = 0)\n",
    "  accv2 = t.tensor(PR.fit(X_train_female_kiva,y_train_female_kiva,X_train_male_kiva,y_train_male_kiva)).reshape(2,1)\n",
    "  eta_accu.append(accv2[0].item())\n",
    "  eta_cvs.append(accv2[1].item())"
   ]
  },
  {
   "cell_type": "code",
   "execution_count": 130,
   "metadata": {},
   "outputs": [
    {
     "data": {
      "text/plain": [
       "[0.47049999237060547,\n",
       " 0.39730000495910645,\n",
       " 0.6696000099182129,\n",
       " 0.7470999956130981,\n",
       " 0.4700999855995178,\n",
       " 0.6715999841690063,\n",
       " 0.9362999796867371,\n",
       " 0.9192000031471252,\n",
       " 0.902999997138977,\n",
       " 0.8992999792098999,\n",
       " 0.8952999711036682,\n",
       " 0.8708999752998352]"
      ]
     },
     "execution_count": 130,
     "metadata": {},
     "output_type": "execute_result"
    }
   ],
   "source": [
    "eta_accu"
   ]
  },
  {
   "cell_type": "code",
   "execution_count": 131,
   "metadata": {},
   "outputs": [
    {
     "data": {
      "text/plain": [
       "[0.0031999999191612005,\n",
       " 0.9876000285148621,\n",
       " 0.38909998536109924,\n",
       " 0.5543000102043152,\n",
       " 0.002400000113993883,\n",
       " 0.39070001244544983,\n",
       " 0.14790000021457672,\n",
       " 0.11500000208616257,\n",
       " 0.07810000330209732,\n",
       " 0.07320000231266022,\n",
       " 0.07090000063180923,\n",
       " 0.03799999877810478]"
      ]
     },
     "execution_count": 131,
     "metadata": {},
     "output_type": "execute_result"
    }
   ],
   "source": [
    "eta_cvs"
   ]
  },
  {
   "cell_type": "code",
   "execution_count": 132,
   "metadata": {
    "colab": {
     "base_uri": "https://localhost:8080/",
     "height": 279
    },
    "id": "SmzFD59b4_wi",
    "outputId": "85e7a6d8-05aa-483c-d6e3-b31bcb65d25e"
   },
   "outputs": [
    {
     "data": {
      "image/png": "[encoded data removed]",
      "text/plain": [
       "<Figure size 640x480 with 1 Axes>"
      ]
     },
     "metadata": {},
     "output_type": "display_data"
    }
   ],
   "source": [
    "plt.plot(eta_value,eta_accu)\n",
    "plt.xlabel('Parameter for Prejudice Remover')\n",
    "plt.ylabel('Accuracy')\n",
    "plt.show()"
   ]
  },
  {
   "cell_type": "code",
   "execution_count": 133,
   "metadata": {
    "colab": {
     "base_uri": "https://localhost:8080/",
     "height": 279
    },
    "id": "Qh-m_ao2_Aoq",
    "outputId": "1fa60710-bc95-4a9f-abd7-e8a6ad14c95e"
   },
   "outputs": [
    {
     "data": {
      "image/png": "[encoded data removed]",
      "text/plain": [
       "<Figure size 640x480 with 1 Axes>"
      ]
     },
     "metadata": {},
     "output_type": "display_data"
    }
   ],
   "source": [
    "plt.plot(eta_value,eta_cvs)\n",
    "plt.xlabel('Parameter for Prejudice Remover')\n",
    "plt.ylabel('CV_score')\n",
    "plt.show()"
   ]
  },
  {
   "cell_type": "markdown",
   "metadata": {
    "id": "r39F73jVAdH7"
   },
   "source": [
    "## student perf"
   ]
  },
  {
   "cell_type": "code",
   "execution_count": 121,
   "metadata": {},
   "outputs": [],
   "source": [
    "\n",
    "X_train_female_st, X_test_female_st, y_train_female_st, y_test_female_st  = processing(student_perf, 'Family_Income', 'Exam_Score', 0)\n",
    "X_train_male_st, X_test_male_st, y_train_male_st, y_test_male_st  = processing(student_perf, 'Family_Income', 'Exam_Score', 1)"
   ]
  },
  {
   "cell_type": "code",
   "execution_count": 122,
   "metadata": {},
   "outputs": [
    {
     "name": "stdout",
     "output_type": "stream",
     "text": [
      "training sample CV_score : -0.0254\n"
     ]
    }
   ],
   "source": [
    "#student p:\n",
    "student_perf['Exam_Score'] = student_perf['Exam_Score'].astype(int)\n",
    "high_f = student_perf[(student_perf['Family_Income'] == 1) & (student_perf['Exam_Score'] == 1)]\n",
    "pf = student_perf[(student_perf['Family_Income'] == 1)]\n",
    "high_m = student_perf[(student_perf['Family_Income'] == 0) & (student_perf['Exam_Score'] == 1)]\n",
    "pm = student_perf[(student_perf['Family_Income'] == 0)]\n",
    "\n",
    "p_c1s1 = high_f.shape[0]/pf.shape[0]\n",
    "p_c1s0 = high_m.shape[0]/pm.shape[0]\n",
    "p_cs = p_c1s0 - p_c1s1\n",
    "\n",
    "print('training sample CV_score : %.4f' %( p_cs))"
   ]
  },
  {
   "cell_type": "code",
   "execution_count": 123,
   "metadata": {},
   "outputs": [
    {
     "data": {
      "text/plain": [
       "tensor([[0.6868],\n",
       "        [0.3373]])"
      ]
     },
     "execution_count": 123,
     "metadata": {},
     "output_type": "execute_result"
    }
   ],
   "source": [
    "PR = PRLR(eta = 1.0, epochs = 3000, lr = 0.01, flag =1)\n",
    "t.tensor(PR.fit(X_train_female_st,y_train_female_st,X_train_male_st,y_train_male_st)).reshape(2,1)"
   ]
  },
  {
   "cell_type": "code",
   "execution_count": 124,
   "metadata": {},
   "outputs": [],
   "source": [
    "eta_value = [0.0,1.0,2.0,3.0,4.0,5.0,10.0,15.0,20.0,25.0,30.0,80.0]\n",
    "eta_accu = []\n",
    "eta_cvs = []\n",
    "for e in range(0,len(eta_value)):\n",
    "  PR = PRLR(eta = eta_value[e], epochs = 3000, lr = 0.01, flag = 1)\n",
    "  accv2 = t.tensor(PR.fit(X_train_female_st,y_train_female_st,X_train_male_st,y_train_male_st)).reshape(2,1)\n",
    "  eta_accu.append(accv2[0].item())\n",
    "  eta_cvs.append(accv2[1].item())"
   ]
  },
  {
   "cell_type": "code",
   "execution_count": 125,
   "metadata": {},
   "outputs": [
    {
     "data": {
      "text/plain": [
       "[0.397599995136261,\n",
       " 0.0,\n",
       " 0.0,\n",
       " 0.0,\n",
       " 0.0,\n",
       " 0.2581999897956848,\n",
       " 0.0,\n",
       " 0.1581999957561493,\n",
       " 0.0,\n",
       " 0.011500000022351742,\n",
       " 0.0,\n",
       " 0.023900000378489494]"
      ]
     },
     "execution_count": 125,
     "metadata": {},
     "output_type": "execute_result"
    }
   ],
   "source": [
    "eta_cvs"
   ]
  },
  {
   "cell_type": "code",
   "execution_count": 126,
   "metadata": {},
   "outputs": [
    {
     "data": {
      "image/png": "[encoded data removed]",
      "text/plain": [
       "<Figure size 640x480 with 1 Axes>"
      ]
     },
     "metadata": {},
     "output_type": "display_data"
    },
    {
     "data": {
      "image/png": "[encoded data removed]",
      "text/plain": [
       "<Figure size 640x480 with 1 Axes>"
      ]
     },
     "metadata": {},
     "output_type": "display_data"
    }
   ],
   "source": [
    "plt.plot(eta_value,eta_accu)\n",
    "plt.xlabel('Parameter for Prejudice Remover')\n",
    "plt.ylabel('Accuracy')\n",
    "plt.show()\n",
    "\n",
    "plt.plot(eta_value,eta_cvs)\n",
    "plt.xlabel('Parameter for Prejudice Remover')\n",
    "plt.ylabel('CV_score')\n",
    "plt.show()"
   ]
  },
  {
   "cell_type": "code",
   "execution_count": 107,
   "metadata": {},
   "outputs": [],
   "source": [
    "#student_perf with gender:\n",
    "    \n",
    "X_train_female_st, X_test_female_st, y_train_female_st, y_test_female_st  = processing(student_perf, 'Gender', 'Exam_Score', 0)\n",
    "X_train_male_st, X_test_male_st, y_train_male_st, y_test_male_st  = processing(student_perf, 'Gender', 'Exam_Score', 1)\n",
    "\n"
   ]
  },
  {
   "cell_type": "code",
   "execution_count": 120,
   "metadata": {},
   "outputs": [
    {
     "name": "stdout",
     "output_type": "stream",
     "text": [
      "training sample CV_score : 0.0008\n"
     ]
    }
   ],
   "source": [
    "#student p:\n",
    "student_perf['Exam_Score'] = student_perf['Exam_Score'].astype(int)\n",
    "high_f = student_perf[(student_perf['Gender'] == 1) & (student_perf['Exam_Score'] == 1)]\n",
    "pf = student_perf[(student_perf['Gender'] == 1)]\n",
    "high_m = student_perf[(student_perf['Gender'] == 0) & (student_perf['Exam_Score'] == 1)]\n",
    "pm = student_perf[(student_perf['Gender'] == 0)]\n",
    "\n",
    "p_c1s1 = high_f.shape[0]/pf.shape[0]\n",
    "p_c1s0 = high_m.shape[0]/pm.shape[0]\n",
    "p_cs = p_c1s0 - p_c1s1\n",
    "\n",
    "print('training sample CV_score : %.4f' %( p_cs))"
   ]
  },
  {
   "cell_type": "code",
   "execution_count": 119,
   "metadata": {},
   "outputs": [
    {
     "data": {
      "text/plain": [
       "tensor([[0.5452],\n",
       "        [0.0000]])"
      ]
     },
     "execution_count": 119,
     "metadata": {},
     "output_type": "execute_result"
    }
   ],
   "source": [
    "PR = PRLR(eta = 1.0, epochs = 3000, lr = 0.01, flag =1)\n",
    "t.tensor(PR.fit(X_train_female_st,y_train_female_st,X_train_male_st,y_train_male_st)).reshape(2,1)"
   ]
  },
  {
   "cell_type": "code",
   "execution_count": 117,
   "metadata": {},
   "outputs": [
    {
     "name": "stdout",
     "output_type": "stream",
     "text": [
      "0.0\n",
      "1.0\n",
      "2.0\n",
      "3.0\n",
      "4.0\n",
      "5.0\n",
      "10.0\n",
      "15.0\n",
      "20.0\n",
      "25.0\n",
      "30.0\n",
      "80.0\n"
     ]
    }
   ],
   "source": [
    "eta_value = [0.0,1.0,2.0,3.0,4.0,5.0,10.0,15.0,20.0,25.0,30.0,80.0]\n",
    "eta_accu = []\n",
    "eta_cvs = []\n",
    "for e in range(0,len(eta_value)):\n",
    "  print(eta_value[e])\n",
    "  PR = PRLR(eta = eta_value[e], epochs = 3000, lr = 0.01, flag = 1)\n",
    "  accv2 = t.tensor(PR.fit(X_train_female_st,y_train_female_st,X_train_male_st,y_train_male_st)).reshape(2,1)\n",
    "  eta_accu.append(accv2[0].item())\n",
    "  eta_cvs.append(accv2[1].item())"
   ]
  },
  {
   "cell_type": "code",
   "execution_count": 118,
   "metadata": {},
   "outputs": [
    {
     "data": {
      "text/plain": [
       "[0.0,\n",
       " 0.0,\n",
       " 0.0,\n",
       " 0.0,\n",
       " 0.0,\n",
       " 0.0,\n",
       " 0.0,\n",
       " 0.0,\n",
       " 0.0,\n",
       " 0.19099999964237213,\n",
       " 0.0,\n",
       " 0.0008999999845400453]"
      ]
     },
     "execution_count": 118,
     "metadata": {},
     "output_type": "execute_result"
    }
   ],
   "source": [
    "eta_cvs"
   ]
  },
  {
   "cell_type": "code",
   "execution_count": 127,
   "metadata": {},
   "outputs": [
    {
     "data": {
      "text/plain": [
       "[0.7089999914169312,\n",
       " 0.5403000116348267,\n",
       " 0.5403000116348267,\n",
       " 0.5403000116348267,\n",
       " 0.5403000116348267,\n",
       " 0.657800018787384,\n",
       " 0.5403000116348267,\n",
       " 0.6186000108718872,\n",
       " 0.5403000116348267,\n",
       " 0.8334000110626221,\n",
       " 0.5403000116348267,\n",
       " 0.5522000193595886]"
      ]
     },
     "execution_count": 127,
     "metadata": {},
     "output_type": "execute_result"
    }
   ],
   "source": [
    "eta_accu"
   ]
  },
  {
   "cell_type": "code",
   "execution_count": null,
   "metadata": {},
   "outputs": [],
   "source": []
  }
 ],
 "metadata": {
  "colab": {
   "collapsed_sections": [],
   "include_colab_link": true,
   "name": "Xuehan_PRLR_0321_onehot.ipynb",
   "provenance": [],
   "toc_visible": true
  },
  "kernelspec": {
   "display_name": "Python 3",
   "language": "python",
   "name": "python3"
  },
  "language_info": {
   "codemirror_mode": {
    "name": "ipython",
    "version": 3
   },
   "file_extension": ".py",
   "mimetype": "text/x-python",
   "name": "python",
   "nbconvert_exporter": "python",
   "pygments_lexer": "ipython3",
   "version": "3.10.13"
  }
 },
 "nbformat": 4,
 "nbformat_minor": 0
}
